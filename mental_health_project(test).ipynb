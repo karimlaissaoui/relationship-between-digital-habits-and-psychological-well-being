{
 "cells": [
  {
   "cell_type": "markdown",
   "id": "02d69a97",
   "metadata": {},
   "source": [
    "# digital diet mental health "
   ]
  },
  {
   "cell_type": "markdown",
   "id": "b50ad33e",
   "metadata": {},
   "source": [
    "##  Business Context"
   ]
  },
  {
   "cell_type": "markdown",
   "id": "a511f250",
   "metadata": {},
   "source": [
    "###  Analysis of Screen Time Impact on Mental Health\n",
    "\n",
    "In today’s digital world, screen time is steadily increasing—whether for work, social interaction, or entertainment. This raises a critical question: **how does screen time affect mental health?**\n",
    "\n",
    "The goal of this study is to explore the **relationship between digital habits and psychological well-being**, in order to:\n",
    "- Identify the types of screen use most associated with poor or stable mental health,\n",
    "- Understand the influence of sleep, physical activity, and lifestyle habits,\n",
    "- Model the **mental health score** using explanatory variables,\n",
    "- Develop a predictive tool to detect at-risk individuals (via regression or binary classification),\n",
    "- Provide recommendations for healthcare professionals or wellness app developers.\n",
    "\n",
    "The dataset includes variables related to screen usage (total time, type of device, social media, gaming), lifestyle behaviors (sleep, diet, exercise), and mental state (mood, stress, anxiety, etc.).\n",
    "\n",
    "---\n",
    "\n",
    "####  Variable Dictionary\n",
    "\n",
    "| Variable                             | Description |\n",
    "|--------------------------------------|-------------|\n",
    "| `user_id`                            | Unique user identifier. |\n",
    "| `age`                                | Age of the individual. |\n",
    "| `gender`                             | Gender of the user (`Male`, `Female`, etc.). |\n",
    "| `daily_screen_time_hours`            | Total number of screen hours per day. |\n",
    "| `phone_usage_hours`                  | Daily phone usage time (in hours). |\n",
    "| `laptop_usage_hours`                 | Daily laptop usage time. |\n",
    "| `tablet_usage_hours`                 | Daily tablet usage time. |\n",
    "| `tv_usage_hours`                     | Daily television viewing time. |\n",
    "| `social_media_hours`                 | Time spent on social media per day. |\n",
    "| `work_related_hours`                 | Screen time dedicated to work-related tasks. |\n",
    "| `entertainment_hours`                | Screen time spent on entertainment (videos, streaming, etc.). |\n",
    "| `gaming_hours`                       | Time spent playing video games. |\n",
    "| `sleep_duration_hours`               | Average sleep duration per night (in hours). |\n",
    "| `sleep_quality`                      | Self-reported sleep quality (score or category). |\n",
    "| `mood_rating`                        | User’s self-assessed mood score. |\n",
    "| `stress_level`                       | Reported level of stress. |\n",
    "| `physical_activity_hours_per_week`   | Total hours of physical activity per week. |\n",
    "| `location_type`                      | Type of living area (`Urban`, `Rural`, etc.). |\n",
    "| `mental_health_score`                | **Target variable** measuring mental health. Can be used for regression or converted for binary classification. |\n",
    "| `uses_wellness_apps`                 | Whether the user uses wellness apps (`Yes`, `No`). |\n",
    "| `eats_healthy`                       | Whether the user maintains healthy eating habits (`Yes`, `No`). |\n",
    "| `caffeine_intake_mg_per_day`         | Daily caffeine intake (in mg). |\n",
    "| `weekly_anxiety_score`               | Weekly anxiety score. |\n",
    "| `weekly_depression_score`            | Weekly depression score. |\n",
    "| `mindfulness_minutes_per_day`        | Daily time spent practicing mindfulness (e.g., meditation). |\n",
    "\n",
    "---\n"
   ]
  },
  {
   "cell_type": "markdown",
   "id": "58d6a974",
   "metadata": {},
   "source": [
    "## load package "
   ]
  },
  {
   "cell_type": "code",
   "execution_count": 1,
   "id": "60423868",
   "metadata": {},
   "outputs": [],
   "source": [
    "import pandas as pd \n",
    "import pathlib\n",
    "import os\n",
    "import seaborn as sns\n",
    "import matplotlib.pyplot as plt\n",
    "from scipy.stats import pearsonr\n",
    "import numpy as np\n",
    "from sklearn.preprocessing import LabelEncoder\n",
    "from sklearn.impute import SimpleImputer\n",
    "from sklearn.preprocessing import OneHotEncoder,OrdinalEncoder\n",
    "import time\n",
    "import ipywidgets as widgets\n",
    "from IPython.display import display, clear_output\n",
    "import warnings"
   ]
  },
  {
   "cell_type": "markdown",
   "id": "17b50707",
   "metadata": {},
   "source": [
    "## load data"
   ]
  },
  {
   "cell_type": "code",
   "execution_count": 2,
   "id": "18f88684",
   "metadata": {},
   "outputs": [
    {
     "data": {
      "text/html": [
       "<div>\n",
       "<style scoped>\n",
       "    .dataframe tbody tr th:only-of-type {\n",
       "        vertical-align: middle;\n",
       "    }\n",
       "\n",
       "    .dataframe tbody tr th {\n",
       "        vertical-align: top;\n",
       "    }\n",
       "\n",
       "    .dataframe thead th {\n",
       "        text-align: right;\n",
       "    }\n",
       "</style>\n",
       "<table border=\"1\" class=\"dataframe\">\n",
       "  <thead>\n",
       "    <tr style=\"text-align: right;\">\n",
       "      <th></th>\n",
       "      <th>user_id</th>\n",
       "      <th>age</th>\n",
       "      <th>gender</th>\n",
       "      <th>daily_screen_time_hours</th>\n",
       "      <th>phone_usage_hours</th>\n",
       "      <th>laptop_usage_hours</th>\n",
       "      <th>tablet_usage_hours</th>\n",
       "      <th>tv_usage_hours</th>\n",
       "      <th>social_media_hours</th>\n",
       "      <th>work_related_hours</th>\n",
       "      <th>...</th>\n",
       "      <th>stress_level</th>\n",
       "      <th>physical_activity_hours_per_week</th>\n",
       "      <th>location_type</th>\n",
       "      <th>mental_health_score</th>\n",
       "      <th>uses_wellness_apps</th>\n",
       "      <th>eats_healthy</th>\n",
       "      <th>caffeine_intake_mg_per_day</th>\n",
       "      <th>weekly_anxiety_score</th>\n",
       "      <th>weekly_depression_score</th>\n",
       "      <th>mindfulness_minutes_per_day</th>\n",
       "    </tr>\n",
       "  </thead>\n",
       "  <tbody>\n",
       "    <tr>\n",
       "      <th>0</th>\n",
       "      <td>user_1</td>\n",
       "      <td>51</td>\n",
       "      <td>Female</td>\n",
       "      <td>4.8</td>\n",
       "      <td>3.4</td>\n",
       "      <td>1.3</td>\n",
       "      <td>1.6</td>\n",
       "      <td>1.6</td>\n",
       "      <td>4.1</td>\n",
       "      <td>2.0</td>\n",
       "      <td>...</td>\n",
       "      <td>10</td>\n",
       "      <td>0.7</td>\n",
       "      <td>Urban</td>\n",
       "      <td>32</td>\n",
       "      <td>1</td>\n",
       "      <td>1</td>\n",
       "      <td>125.2</td>\n",
       "      <td>13</td>\n",
       "      <td>15</td>\n",
       "      <td>4.0</td>\n",
       "    </tr>\n",
       "    <tr>\n",
       "      <th>1</th>\n",
       "      <td>user_2</td>\n",
       "      <td>64</td>\n",
       "      <td>Male</td>\n",
       "      <td>3.9</td>\n",
       "      <td>3.5</td>\n",
       "      <td>1.8</td>\n",
       "      <td>0.9</td>\n",
       "      <td>2.0</td>\n",
       "      <td>2.7</td>\n",
       "      <td>3.1</td>\n",
       "      <td>...</td>\n",
       "      <td>6</td>\n",
       "      <td>4.3</td>\n",
       "      <td>Suburban</td>\n",
       "      <td>75</td>\n",
       "      <td>0</td>\n",
       "      <td>1</td>\n",
       "      <td>150.4</td>\n",
       "      <td>19</td>\n",
       "      <td>18</td>\n",
       "      <td>6.5</td>\n",
       "    </tr>\n",
       "    <tr>\n",
       "      <th>2</th>\n",
       "      <td>user_3</td>\n",
       "      <td>41</td>\n",
       "      <td>Other</td>\n",
       "      <td>10.5</td>\n",
       "      <td>2.1</td>\n",
       "      <td>2.6</td>\n",
       "      <td>0.7</td>\n",
       "      <td>2.2</td>\n",
       "      <td>3.0</td>\n",
       "      <td>2.8</td>\n",
       "      <td>...</td>\n",
       "      <td>5</td>\n",
       "      <td>3.1</td>\n",
       "      <td>Suburban</td>\n",
       "      <td>22</td>\n",
       "      <td>0</td>\n",
       "      <td>0</td>\n",
       "      <td>187.9</td>\n",
       "      <td>7</td>\n",
       "      <td>3</td>\n",
       "      <td>6.9</td>\n",
       "    </tr>\n",
       "    <tr>\n",
       "      <th>3</th>\n",
       "      <td>user_4</td>\n",
       "      <td>27</td>\n",
       "      <td>Other</td>\n",
       "      <td>8.8</td>\n",
       "      <td>0.0</td>\n",
       "      <td>0.0</td>\n",
       "      <td>0.7</td>\n",
       "      <td>2.5</td>\n",
       "      <td>3.3</td>\n",
       "      <td>1.6</td>\n",
       "      <td>...</td>\n",
       "      <td>5</td>\n",
       "      <td>0.0</td>\n",
       "      <td>Rural</td>\n",
       "      <td>22</td>\n",
       "      <td>0</td>\n",
       "      <td>1</td>\n",
       "      <td>73.6</td>\n",
       "      <td>7</td>\n",
       "      <td>2</td>\n",
       "      <td>4.8</td>\n",
       "    </tr>\n",
       "    <tr>\n",
       "      <th>4</th>\n",
       "      <td>user_5</td>\n",
       "      <td>55</td>\n",
       "      <td>Male</td>\n",
       "      <td>5.9</td>\n",
       "      <td>1.7</td>\n",
       "      <td>1.1</td>\n",
       "      <td>1.5</td>\n",
       "      <td>1.6</td>\n",
       "      <td>1.1</td>\n",
       "      <td>3.6</td>\n",
       "      <td>...</td>\n",
       "      <td>7</td>\n",
       "      <td>3.0</td>\n",
       "      <td>Urban</td>\n",
       "      <td>64</td>\n",
       "      <td>1</td>\n",
       "      <td>1</td>\n",
       "      <td>217.5</td>\n",
       "      <td>8</td>\n",
       "      <td>10</td>\n",
       "      <td>0.0</td>\n",
       "    </tr>\n",
       "  </tbody>\n",
       "</table>\n",
       "<p>5 rows × 25 columns</p>\n",
       "</div>"
      ],
      "text/plain": [
       "  user_id  age  gender  daily_screen_time_hours  phone_usage_hours  \\\n",
       "0  user_1   51  Female                      4.8                3.4   \n",
       "1  user_2   64    Male                      3.9                3.5   \n",
       "2  user_3   41   Other                     10.5                2.1   \n",
       "3  user_4   27   Other                      8.8                0.0   \n",
       "4  user_5   55    Male                      5.9                1.7   \n",
       "\n",
       "   laptop_usage_hours  tablet_usage_hours  tv_usage_hours  social_media_hours  \\\n",
       "0                 1.3                 1.6             1.6                 4.1   \n",
       "1                 1.8                 0.9             2.0                 2.7   \n",
       "2                 2.6                 0.7             2.2                 3.0   \n",
       "3                 0.0                 0.7             2.5                 3.3   \n",
       "4                 1.1                 1.5             1.6                 1.1   \n",
       "\n",
       "   work_related_hours  ...  stress_level  physical_activity_hours_per_week  \\\n",
       "0                 2.0  ...            10                               0.7   \n",
       "1                 3.1  ...             6                               4.3   \n",
       "2                 2.8  ...             5                               3.1   \n",
       "3                 1.6  ...             5                               0.0   \n",
       "4                 3.6  ...             7                               3.0   \n",
       "\n",
       "   location_type  mental_health_score  uses_wellness_apps  eats_healthy  \\\n",
       "0          Urban                   32                   1             1   \n",
       "1       Suburban                   75                   0             1   \n",
       "2       Suburban                   22                   0             0   \n",
       "3          Rural                   22                   0             1   \n",
       "4          Urban                   64                   1             1   \n",
       "\n",
       "   caffeine_intake_mg_per_day weekly_anxiety_score  weekly_depression_score  \\\n",
       "0                       125.2                   13                       15   \n",
       "1                       150.4                   19                       18   \n",
       "2                       187.9                    7                        3   \n",
       "3                        73.6                    7                        2   \n",
       "4                       217.5                    8                       10   \n",
       "\n",
       "   mindfulness_minutes_per_day  \n",
       "0                          4.0  \n",
       "1                          6.5  \n",
       "2                          6.9  \n",
       "3                          4.8  \n",
       "4                          0.0  \n",
       "\n",
       "[5 rows x 25 columns]"
      ]
     },
     "execution_count": 2,
     "metadata": {},
     "output_type": "execute_result"
    }
   ],
   "source": [
    "data=pd.read_csv(r\"C:\\Users\\Client\\Desktop\\R studio project\\digital_diet_mental_health\\digital_diet_mental_health.csv\")\n",
    "df=pd.DataFrame(data)\n",
    "df.head()"
   ]
  },
  {
   "cell_type": "markdown",
   "id": "f72de523",
   "metadata": {},
   "source": [
    "##  2.\tAnalyze the Structure of the Data "
   ]
  },
  {
   "cell_type": "code",
   "execution_count": 3,
   "id": "4db2c0bb",
   "metadata": {},
   "outputs": [
    {
     "data": {
      "text/markdown": [
       "##  **Overall Dataset Summary**"
      ],
      "text/plain": [
       "<IPython.core.display.Markdown object>"
      ]
     },
     "metadata": {},
     "output_type": "display_data"
    },
    {
     "data": {
      "text/markdown": [
       "- **Number of rows:** 2,000"
      ],
      "text/plain": [
       "<IPython.core.display.Markdown object>"
      ]
     },
     "metadata": {},
     "output_type": "display_data"
    },
    {
     "data": {
      "text/markdown": [
       "- **Number of columns:** 25"
      ],
      "text/plain": [
       "<IPython.core.display.Markdown object>"
      ]
     },
     "metadata": {},
     "output_type": "display_data"
    },
    {
     "data": {
      "text/markdown": [
       "###  **Column Names**"
      ],
      "text/plain": [
       "<IPython.core.display.Markdown object>"
      ]
     },
     "metadata": {},
     "output_type": "display_data"
    },
    {
     "data": {
      "text/markdown": [
       "`user_id`, `age`, `gender`, `daily_screen_time_hours`, `phone_usage_hours`, `laptop_usage_hours`, `tablet_usage_hours`, `tv_usage_hours`, `social_media_hours`, `work_related_hours`, `entertainment_hours`, `gaming_hours`, `sleep_duration_hours`, `sleep_quality`, `mood_rating`, `stress_level`, `physical_activity_hours_per_week`, `location_type`, `mental_health_score`, `uses_wellness_apps`, `eats_healthy`, `caffeine_intake_mg_per_day`, `weekly_anxiety_score`, `weekly_depression_score`, `mindfulness_minutes_per_day`"
      ],
      "text/plain": [
       "<IPython.core.display.Markdown object>"
      ]
     },
     "metadata": {},
     "output_type": "display_data"
    },
    {
     "name": "stdout",
     "output_type": "stream",
     "text": [
      "\n",
      "======================================================================\n",
      "\n"
     ]
    },
    {
     "data": {
      "text/markdown": [
       "## **Data Types**"
      ],
      "text/plain": [
       "<IPython.core.display.Markdown object>"
      ]
     },
     "metadata": {},
     "output_type": "display_data"
    },
    {
     "data": {
      "text/html": [
       "<div>\n",
       "<style scoped>\n",
       "    .dataframe tbody tr th:only-of-type {\n",
       "        vertical-align: middle;\n",
       "    }\n",
       "\n",
       "    .dataframe tbody tr th {\n",
       "        vertical-align: top;\n",
       "    }\n",
       "\n",
       "    .dataframe thead th {\n",
       "        text-align: right;\n",
       "    }\n",
       "</style>\n",
       "<table border=\"1\" class=\"dataframe\">\n",
       "  <thead>\n",
       "    <tr style=\"text-align: right;\">\n",
       "      <th></th>\n",
       "      <th>Number of columns</th>\n",
       "    </tr>\n",
       "    <tr>\n",
       "      <th>Data Type</th>\n",
       "      <th></th>\n",
       "    </tr>\n",
       "  </thead>\n",
       "  <tbody>\n",
       "    <tr>\n",
       "      <th>float64</th>\n",
       "      <td>13</td>\n",
       "    </tr>\n",
       "    <tr>\n",
       "      <th>int64</th>\n",
       "      <td>9</td>\n",
       "    </tr>\n",
       "    <tr>\n",
       "      <th>object</th>\n",
       "      <td>3</td>\n",
       "    </tr>\n",
       "  </tbody>\n",
       "</table>\n",
       "</div>"
      ],
      "text/plain": [
       "           Number of columns\n",
       "Data Type                   \n",
       "float64                   13\n",
       "int64                      9\n",
       "object                     3"
      ]
     },
     "metadata": {},
     "output_type": "display_data"
    },
    {
     "name": "stdout",
     "output_type": "stream",
     "text": [
      "\n",
      "======================================================================\n",
      "\n"
     ]
    },
    {
     "data": {
      "text/markdown": [
       "## **Qualitative (Categorical) Variables**"
      ],
      "text/plain": [
       "<IPython.core.display.Markdown object>"
      ]
     },
     "metadata": {},
     "output_type": "display_data"
    },
    {
     "data": {
      "text/markdown": [
       "`user_id`, `gender`, `location_type`"
      ],
      "text/plain": [
       "<IPython.core.display.Markdown object>"
      ]
     },
     "metadata": {},
     "output_type": "display_data"
    },
    {
     "data": {
      "text/markdown": [
       "## **Quantitative (Numerical) Variables**"
      ],
      "text/plain": [
       "<IPython.core.display.Markdown object>"
      ]
     },
     "metadata": {},
     "output_type": "display_data"
    },
    {
     "data": {
      "text/markdown": [
       "`age`, `daily_screen_time_hours`, `phone_usage_hours`, `laptop_usage_hours`, `tablet_usage_hours`, `tv_usage_hours`, `social_media_hours`, `work_related_hours`, `entertainment_hours`, `gaming_hours`, `sleep_duration_hours`, `sleep_quality`, `mood_rating`, `stress_level`, `physical_activity_hours_per_week`, `mental_health_score`, `uses_wellness_apps`, `eats_healthy`, `caffeine_intake_mg_per_day`, `weekly_anxiety_score`, `weekly_depression_score`, `mindfulness_minutes_per_day`"
      ],
      "text/plain": [
       "<IPython.core.display.Markdown object>"
      ]
     },
     "metadata": {},
     "output_type": "display_data"
    },
    {
     "name": "stdout",
     "output_type": "stream",
     "text": [
      "\n",
      "======================================================================\n",
      "\n"
     ]
    },
    {
     "data": {
      "text/markdown": [
       "## **Missing Values**"
      ],
      "text/plain": [
       "<IPython.core.display.Markdown object>"
      ]
     },
     "metadata": {},
     "output_type": "display_data"
    },
    {
     "data": {
      "text/markdown": [
       "_No missing values detected._"
      ],
      "text/plain": [
       "<IPython.core.display.Markdown object>"
      ]
     },
     "metadata": {},
     "output_type": "display_data"
    }
   ],
   "source": [
    "def data_summary(df):\n",
    "    from IPython.display import display, Markdown\n",
    "    import pandas as pd\n",
    "\n",
    "    separator = \"\\n\" + \"=\" * 70 + \"\\n\"\n",
    "    \n",
    "    display(Markdown(\"##  **Overall Dataset Summary**\"))\n",
    "    \n",
    "    total_rows, total_cols = df.shape\n",
    "    display(Markdown(f\"- **Number of rows:** {total_rows:,}\"))\n",
    "    display(Markdown(f\"- **Number of columns:** {total_cols:,}\"))\n",
    "\n",
    "    display(Markdown(\"###  **Column Names**\"))\n",
    "    display(Markdown(\", \".join([f\"`{col}`\" for col in df.columns])))\n",
    "\n",
    "    print(separator)\n",
    "    \n",
    "    display(Markdown(\"## **Data Types**\"))\n",
    "    display(df.dtypes.value_counts().to_frame(\"Number of columns\").rename_axis(\"Data Type\"))\n",
    "\n",
    "    qualitative_columns = df.select_dtypes(include=[\"object\"]).columns.tolist()\n",
    "    quantitative_columns = df.select_dtypes(include=[\"number\"]).columns.tolist()\n",
    "\n",
    "    print(separator)\n",
    "\n",
    "    display(Markdown(\"## **Qualitative (Categorical) Variables**\"))\n",
    "    if qualitative_columns:\n",
    "        display(Markdown(\", \".join([f\"`{col}`\" for col in qualitative_columns])))\n",
    "    else:\n",
    "        display(Markdown(\"_No qualitative variables._\"))\n",
    "\n",
    "    display(Markdown(\"## **Quantitative (Numerical) Variables**\"))\n",
    "    if quantitative_columns:\n",
    "        display(Markdown(\", \".join([f\"`{col}`\" for col in quantitative_columns])))\n",
    "    else:\n",
    "        display(Markdown(\"_No quantitative variables._\"))\n",
    "\n",
    "    print(separator)\n",
    "\n",
    "    display(Markdown(\"## **Missing Values**\"))\n",
    "    missing_values = df.isnull().sum()\n",
    "    missing_values = missing_values[missing_values > 0]\n",
    "    if missing_values.empty:\n",
    "        display(Markdown(\"_No missing values detected._\"))\n",
    "    else:\n",
    "        display(missing_values.to_frame(\"Missing Values\").rename_axis(\"Variable\"))\n",
    "data_summary(df)\n"
   ]
  },
  {
   "cell_type": "code",
   "execution_count": 4,
   "id": "396b5bb2",
   "metadata": {},
   "outputs": [
    {
     "data": {
      "text/html": [
       "<div>\n",
       "<style scoped>\n",
       "    .dataframe tbody tr th:only-of-type {\n",
       "        vertical-align: middle;\n",
       "    }\n",
       "\n",
       "    .dataframe tbody tr th {\n",
       "        vertical-align: top;\n",
       "    }\n",
       "\n",
       "    .dataframe thead th {\n",
       "        text-align: right;\n",
       "    }\n",
       "</style>\n",
       "<table border=\"1\" class=\"dataframe\">\n",
       "  <thead>\n",
       "    <tr style=\"text-align: right;\">\n",
       "      <th></th>\n",
       "      <th>age</th>\n",
       "      <th>daily_screen_time_hours</th>\n",
       "      <th>phone_usage_hours</th>\n",
       "      <th>laptop_usage_hours</th>\n",
       "      <th>tablet_usage_hours</th>\n",
       "      <th>tv_usage_hours</th>\n",
       "      <th>social_media_hours</th>\n",
       "      <th>work_related_hours</th>\n",
       "      <th>entertainment_hours</th>\n",
       "      <th>gaming_hours</th>\n",
       "      <th>...</th>\n",
       "      <th>mood_rating</th>\n",
       "      <th>stress_level</th>\n",
       "      <th>physical_activity_hours_per_week</th>\n",
       "      <th>mental_health_score</th>\n",
       "      <th>uses_wellness_apps</th>\n",
       "      <th>eats_healthy</th>\n",
       "      <th>caffeine_intake_mg_per_day</th>\n",
       "      <th>weekly_anxiety_score</th>\n",
       "      <th>weekly_depression_score</th>\n",
       "      <th>mindfulness_minutes_per_day</th>\n",
       "    </tr>\n",
       "  </thead>\n",
       "  <tbody>\n",
       "    <tr>\n",
       "      <th>count</th>\n",
       "      <td>2000.000000</td>\n",
       "      <td>2000.000000</td>\n",
       "      <td>2000.000000</td>\n",
       "      <td>2000.000000</td>\n",
       "      <td>2000.000000</td>\n",
       "      <td>2000.000000</td>\n",
       "      <td>2000.000000</td>\n",
       "      <td>2000.000000</td>\n",
       "      <td>2000.00000</td>\n",
       "      <td>2000.0000</td>\n",
       "      <td>...</td>\n",
       "      <td>2000.000000</td>\n",
       "      <td>2000.000000</td>\n",
       "      <td>2000.000000</td>\n",
       "      <td>2000.000000</td>\n",
       "      <td>2000.000000</td>\n",
       "      <td>2000.000000</td>\n",
       "      <td>2000.00000</td>\n",
       "      <td>2000.000000</td>\n",
       "      <td>2000.00000</td>\n",
       "      <td>2000.000000</td>\n",
       "    </tr>\n",
       "    <tr>\n",
       "      <th>mean</th>\n",
       "      <td>38.805500</td>\n",
       "      <td>6.025600</td>\n",
       "      <td>3.023700</td>\n",
       "      <td>1.999950</td>\n",
       "      <td>0.995650</td>\n",
       "      <td>1.503700</td>\n",
       "      <td>2.039200</td>\n",
       "      <td>2.010250</td>\n",
       "      <td>2.46735</td>\n",
       "      <td>1.2795</td>\n",
       "      <td>...</td>\n",
       "      <td>5.591000</td>\n",
       "      <td>5.541500</td>\n",
       "      <td>3.087150</td>\n",
       "      <td>49.650500</td>\n",
       "      <td>0.387500</td>\n",
       "      <td>0.507500</td>\n",
       "      <td>148.07970</td>\n",
       "      <td>9.887500</td>\n",
       "      <td>10.04900</td>\n",
       "      <td>10.753750</td>\n",
       "    </tr>\n",
       "    <tr>\n",
       "      <th>std</th>\n",
       "      <td>14.929203</td>\n",
       "      <td>1.974123</td>\n",
       "      <td>1.449399</td>\n",
       "      <td>0.997949</td>\n",
       "      <td>0.492714</td>\n",
       "      <td>0.959003</td>\n",
       "      <td>1.133435</td>\n",
       "      <td>1.116111</td>\n",
       "      <td>1.23686</td>\n",
       "      <td>0.8945</td>\n",
       "      <td>...</td>\n",
       "      <td>2.899814</td>\n",
       "      <td>2.885731</td>\n",
       "      <td>1.885258</td>\n",
       "      <td>17.546717</td>\n",
       "      <td>0.487301</td>\n",
       "      <td>0.500069</td>\n",
       "      <td>48.86066</td>\n",
       "      <td>6.027853</td>\n",
       "      <td>6.05334</td>\n",
       "      <td>7.340269</td>\n",
       "    </tr>\n",
       "    <tr>\n",
       "      <th>min</th>\n",
       "      <td>13.000000</td>\n",
       "      <td>0.000000</td>\n",
       "      <td>0.000000</td>\n",
       "      <td>0.000000</td>\n",
       "      <td>0.000000</td>\n",
       "      <td>0.000000</td>\n",
       "      <td>0.000000</td>\n",
       "      <td>0.000000</td>\n",
       "      <td>0.00000</td>\n",
       "      <td>0.0000</td>\n",
       "      <td>...</td>\n",
       "      <td>1.000000</td>\n",
       "      <td>1.000000</td>\n",
       "      <td>0.000000</td>\n",
       "      <td>20.000000</td>\n",
       "      <td>0.000000</td>\n",
       "      <td>0.000000</td>\n",
       "      <td>0.80000</td>\n",
       "      <td>0.000000</td>\n",
       "      <td>0.00000</td>\n",
       "      <td>0.000000</td>\n",
       "    </tr>\n",
       "    <tr>\n",
       "      <th>25%</th>\n",
       "      <td>26.000000</td>\n",
       "      <td>4.700000</td>\n",
       "      <td>2.000000</td>\n",
       "      <td>1.300000</td>\n",
       "      <td>0.600000</td>\n",
       "      <td>0.800000</td>\n",
       "      <td>1.200000</td>\n",
       "      <td>1.200000</td>\n",
       "      <td>1.60000</td>\n",
       "      <td>0.6000</td>\n",
       "      <td>...</td>\n",
       "      <td>3.000000</td>\n",
       "      <td>3.000000</td>\n",
       "      <td>1.600000</td>\n",
       "      <td>35.000000</td>\n",
       "      <td>0.000000</td>\n",
       "      <td>0.000000</td>\n",
       "      <td>113.90000</td>\n",
       "      <td>5.000000</td>\n",
       "      <td>5.00000</td>\n",
       "      <td>4.900000</td>\n",
       "    </tr>\n",
       "    <tr>\n",
       "      <th>50%</th>\n",
       "      <td>39.000000</td>\n",
       "      <td>6.000000</td>\n",
       "      <td>3.000000</td>\n",
       "      <td>2.000000</td>\n",
       "      <td>1.000000</td>\n",
       "      <td>1.500000</td>\n",
       "      <td>2.000000</td>\n",
       "      <td>2.000000</td>\n",
       "      <td>2.40000</td>\n",
       "      <td>1.2000</td>\n",
       "      <td>...</td>\n",
       "      <td>6.000000</td>\n",
       "      <td>6.000000</td>\n",
       "      <td>3.000000</td>\n",
       "      <td>49.000000</td>\n",
       "      <td>0.000000</td>\n",
       "      <td>1.000000</td>\n",
       "      <td>147.45000</td>\n",
       "      <td>10.000000</td>\n",
       "      <td>10.00000</td>\n",
       "      <td>10.400000</td>\n",
       "    </tr>\n",
       "    <tr>\n",
       "      <th>75%</th>\n",
       "      <td>51.000000</td>\n",
       "      <td>7.325000</td>\n",
       "      <td>4.000000</td>\n",
       "      <td>2.700000</td>\n",
       "      <td>1.300000</td>\n",
       "      <td>2.200000</td>\n",
       "      <td>2.800000</td>\n",
       "      <td>2.800000</td>\n",
       "      <td>3.30000</td>\n",
       "      <td>1.9000</td>\n",
       "      <td>...</td>\n",
       "      <td>8.000000</td>\n",
       "      <td>8.000000</td>\n",
       "      <td>4.400000</td>\n",
       "      <td>64.250000</td>\n",
       "      <td>1.000000</td>\n",
       "      <td>1.000000</td>\n",
       "      <td>180.70000</td>\n",
       "      <td>15.000000</td>\n",
       "      <td>15.00000</td>\n",
       "      <td>15.800000</td>\n",
       "    </tr>\n",
       "    <tr>\n",
       "      <th>max</th>\n",
       "      <td>64.000000</td>\n",
       "      <td>13.300000</td>\n",
       "      <td>8.400000</td>\n",
       "      <td>5.600000</td>\n",
       "      <td>2.500000</td>\n",
       "      <td>4.700000</td>\n",
       "      <td>5.800000</td>\n",
       "      <td>5.900000</td>\n",
       "      <td>6.80000</td>\n",
       "      <td>4.0000</td>\n",
       "      <td>...</td>\n",
       "      <td>10.000000</td>\n",
       "      <td>10.000000</td>\n",
       "      <td>9.700000</td>\n",
       "      <td>80.000000</td>\n",
       "      <td>1.000000</td>\n",
       "      <td>1.000000</td>\n",
       "      <td>364.90000</td>\n",
       "      <td>20.000000</td>\n",
       "      <td>20.00000</td>\n",
       "      <td>36.400000</td>\n",
       "    </tr>\n",
       "  </tbody>\n",
       "</table>\n",
       "<p>8 rows × 22 columns</p>\n",
       "</div>"
      ],
      "text/plain": [
       "               age  daily_screen_time_hours  phone_usage_hours  \\\n",
       "count  2000.000000              2000.000000        2000.000000   \n",
       "mean     38.805500                 6.025600           3.023700   \n",
       "std      14.929203                 1.974123           1.449399   \n",
       "min      13.000000                 0.000000           0.000000   \n",
       "25%      26.000000                 4.700000           2.000000   \n",
       "50%      39.000000                 6.000000           3.000000   \n",
       "75%      51.000000                 7.325000           4.000000   \n",
       "max      64.000000                13.300000           8.400000   \n",
       "\n",
       "       laptop_usage_hours  tablet_usage_hours  tv_usage_hours  \\\n",
       "count         2000.000000         2000.000000     2000.000000   \n",
       "mean             1.999950            0.995650        1.503700   \n",
       "std              0.997949            0.492714        0.959003   \n",
       "min              0.000000            0.000000        0.000000   \n",
       "25%              1.300000            0.600000        0.800000   \n",
       "50%              2.000000            1.000000        1.500000   \n",
       "75%              2.700000            1.300000        2.200000   \n",
       "max              5.600000            2.500000        4.700000   \n",
       "\n",
       "       social_media_hours  work_related_hours  entertainment_hours  \\\n",
       "count         2000.000000         2000.000000           2000.00000   \n",
       "mean             2.039200            2.010250              2.46735   \n",
       "std              1.133435            1.116111              1.23686   \n",
       "min              0.000000            0.000000              0.00000   \n",
       "25%              1.200000            1.200000              1.60000   \n",
       "50%              2.000000            2.000000              2.40000   \n",
       "75%              2.800000            2.800000              3.30000   \n",
       "max              5.800000            5.900000              6.80000   \n",
       "\n",
       "       gaming_hours  ...  mood_rating  stress_level  \\\n",
       "count     2000.0000  ...  2000.000000   2000.000000   \n",
       "mean         1.2795  ...     5.591000      5.541500   \n",
       "std          0.8945  ...     2.899814      2.885731   \n",
       "min          0.0000  ...     1.000000      1.000000   \n",
       "25%          0.6000  ...     3.000000      3.000000   \n",
       "50%          1.2000  ...     6.000000      6.000000   \n",
       "75%          1.9000  ...     8.000000      8.000000   \n",
       "max          4.0000  ...    10.000000     10.000000   \n",
       "\n",
       "       physical_activity_hours_per_week  mental_health_score  \\\n",
       "count                       2000.000000          2000.000000   \n",
       "mean                           3.087150            49.650500   \n",
       "std                            1.885258            17.546717   \n",
       "min                            0.000000            20.000000   \n",
       "25%                            1.600000            35.000000   \n",
       "50%                            3.000000            49.000000   \n",
       "75%                            4.400000            64.250000   \n",
       "max                            9.700000            80.000000   \n",
       "\n",
       "       uses_wellness_apps  eats_healthy  caffeine_intake_mg_per_day  \\\n",
       "count         2000.000000   2000.000000                  2000.00000   \n",
       "mean             0.387500      0.507500                   148.07970   \n",
       "std              0.487301      0.500069                    48.86066   \n",
       "min              0.000000      0.000000                     0.80000   \n",
       "25%              0.000000      0.000000                   113.90000   \n",
       "50%              0.000000      1.000000                   147.45000   \n",
       "75%              1.000000      1.000000                   180.70000   \n",
       "max              1.000000      1.000000                   364.90000   \n",
       "\n",
       "       weekly_anxiety_score  weekly_depression_score  \\\n",
       "count           2000.000000               2000.00000   \n",
       "mean               9.887500                 10.04900   \n",
       "std                6.027853                  6.05334   \n",
       "min                0.000000                  0.00000   \n",
       "25%                5.000000                  5.00000   \n",
       "50%               10.000000                 10.00000   \n",
       "75%               15.000000                 15.00000   \n",
       "max               20.000000                 20.00000   \n",
       "\n",
       "       mindfulness_minutes_per_day  \n",
       "count                  2000.000000  \n",
       "mean                     10.753750  \n",
       "std                       7.340269  \n",
       "min                       0.000000  \n",
       "25%                       4.900000  \n",
       "50%                      10.400000  \n",
       "75%                      15.800000  \n",
       "max                      36.400000  \n",
       "\n",
       "[8 rows x 22 columns]"
      ]
     },
     "execution_count": 4,
     "metadata": {},
     "output_type": "execute_result"
    }
   ],
   "source": [
    "\n",
    "df.describe()"
   ]
  },
  {
   "cell_type": "markdown",
   "id": "c8717f1b",
   "metadata": {},
   "source": [
    "##  Univariate Analysis"
   ]
  },
  {
   "cell_type": "code",
   "execution_count": 5,
   "id": "93185180",
   "metadata": {},
   "outputs": [
    {
     "name": "stdout",
     "output_type": "stream",
     "text": [
      "Df dtypes:\n",
      "dtype\n",
      "float64    13\n",
      "int64       9\n",
      "object      3\n",
      "dtype: int64\n"
     ]
    }
   ],
   "source": [
    "dtypes = df.dtypes.reset_index()\n",
    "dtypes.columns = ['column_name', 'dtype']\n",
    "dtypes['dtype'] = dtypes['dtype'].astype(str)  \n",
    "print('Df dtypes:')\n",
    "print(dtypes.groupby('dtype').size())"
   ]
  },
  {
   "cell_type": "markdown",
   "id": "ec815551",
   "metadata": {},
   "source": [
    "### numerical variables "
   ]
  },
  {
   "cell_type": "code",
   "execution_count": 6,
   "id": "cc585678",
   "metadata": {},
   "outputs": [
    {
     "name": "stdout",
     "output_type": "stream",
     "text": [
      "                                   count       mean        std   min    25%  \\\n",
      "age                               2000.0   38.80550  14.929203  13.0   26.0   \n",
      "daily_screen_time_hours           2000.0    6.02560   1.974123   0.0    4.7   \n",
      "phone_usage_hours                 2000.0    3.02370   1.449399   0.0    2.0   \n",
      "laptop_usage_hours                2000.0    1.99995   0.997949   0.0    1.3   \n",
      "tablet_usage_hours                2000.0    0.99565   0.492714   0.0    0.6   \n",
      "tv_usage_hours                    2000.0    1.50370   0.959003   0.0    0.8   \n",
      "social_media_hours                2000.0    2.03920   1.133435   0.0    1.2   \n",
      "work_related_hours                2000.0    2.01025   1.116111   0.0    1.2   \n",
      "entertainment_hours               2000.0    2.46735   1.236860   0.0    1.6   \n",
      "gaming_hours                      2000.0    1.27950   0.894500   0.0    0.6   \n",
      "sleep_duration_hours              2000.0    6.53755   1.203856   3.0    5.7   \n",
      "sleep_quality                     2000.0    5.56700   2.826217   1.0    3.0   \n",
      "mood_rating                       2000.0    5.59100   2.899814   1.0    3.0   \n",
      "stress_level                      2000.0    5.54150   2.885731   1.0    3.0   \n",
      "physical_activity_hours_per_week  2000.0    3.08715   1.885258   0.0    1.6   \n",
      "mental_health_score               2000.0   49.65050  17.546717  20.0   35.0   \n",
      "uses_wellness_apps                2000.0    0.38750   0.487301   0.0    0.0   \n",
      "eats_healthy                      2000.0    0.50750   0.500069   0.0    0.0   \n",
      "caffeine_intake_mg_per_day        2000.0  148.07970  48.860660   0.8  113.9   \n",
      "weekly_anxiety_score              2000.0    9.88750   6.027853   0.0    5.0   \n",
      "weekly_depression_score           2000.0   10.04900   6.053340   0.0    5.0   \n",
      "mindfulness_minutes_per_day       2000.0   10.75375   7.340269   0.0    4.9   \n",
      "\n",
      "                                     50%      75%    max  \n",
      "age                                39.00   51.000   64.0  \n",
      "daily_screen_time_hours             6.00    7.325   13.3  \n",
      "phone_usage_hours                   3.00    4.000    8.4  \n",
      "laptop_usage_hours                  2.00    2.700    5.6  \n",
      "tablet_usage_hours                  1.00    1.300    2.5  \n",
      "tv_usage_hours                      1.50    2.200    4.7  \n",
      "social_media_hours                  2.00    2.800    5.8  \n",
      "work_related_hours                  2.00    2.800    5.9  \n",
      "entertainment_hours                 2.40    3.300    6.8  \n",
      "gaming_hours                        1.20    1.900    4.0  \n",
      "sleep_duration_hours                6.60    7.400   10.0  \n",
      "sleep_quality                       6.00    8.000   10.0  \n",
      "mood_rating                         6.00    8.000   10.0  \n",
      "stress_level                        6.00    8.000   10.0  \n",
      "physical_activity_hours_per_week    3.00    4.400    9.7  \n",
      "mental_health_score                49.00   64.250   80.0  \n",
      "uses_wellness_apps                  0.00    1.000    1.0  \n",
      "eats_healthy                        1.00    1.000    1.0  \n",
      "caffeine_intake_mg_per_day        147.45  180.700  364.9  \n",
      "weekly_anxiety_score               10.00   15.000   20.0  \n",
      "weekly_depression_score            10.00   15.000   20.0  \n",
      "mindfulness_minutes_per_day        10.40   15.800   36.4  \n"
     ]
    }
   ],
   "source": [
    "def numeric_analysis(df):\n",
    "        return print(df.describe().T)\n",
    "numeric_analysis(df)"
   ]
  },
  {
   "cell_type": "code",
   "execution_count": 7,
   "id": "a94b3ab9",
   "metadata": {},
   "outputs": [],
   "source": [
    "warnings.filterwarnings(\"ignore\", category=UserWarning)\n",
    "warnings.filterwarnings(\"ignore\", category=FutureWarning)\n",
    "\n",
    "def univariate_analysis_dropdown(df):\n",
    "    numeric_cols = df.select_dtypes(include=['number']).columns.tolist()\n",
    "\n",
    "    dropdown = widgets.Dropdown(\n",
    "        options=numeric_cols,\n",
    "        description='Variable:',\n",
    "        style={'description_width': 'initial'},\n",
    "        layout=widgets.Layout(width='50%')\n",
    "    )\n",
    "    output = widgets.Output()\n",
    "    def plot_variable(change):\n",
    "        output.clear_output()\n",
    "        col = change['new']\n",
    "\n",
    "        with output:\n",
    "            fig, axes = plt.subplots(2, 2, figsize=(14, 10))\n",
    "            fig.suptitle(f'Distribution de \"{col}\"', fontsize=18, fontweight='bold', y=1.02)\n",
    "            plt.subplots_adjust(hspace=0.4)\n",
    "\n",
    "            if df[col].nunique() < 20:\n",
    "                sns.barplot(\n",
    "                    x=df[col].value_counts().index,\n",
    "                    y=df[col].value_counts().values,\n",
    "                    palette=\"magma\",\n",
    "                    ax=axes[0, 0]\n",
    "                )\n",
    "                axes[0, 0].set_title('Bar Chart')\n",
    "                axes[0, 0].set_xlabel(col)\n",
    "                axes[0, 0].set_ylabel('Fréquence')\n",
    "            else:\n",
    "                axes[0, 0].axis('off')\n",
    "                axes[0, 0].text(0.5, 0.5, \"Trop de valeurs uniques pour un bar chart\",\n",
    "                                ha='center', va='center', fontsize=10, color='gray')\n",
    "\n",
    "            # Box Plot\n",
    "            sns.boxplot(y=df[col], palette=\"coolwarm\", ax=axes[0, 1])\n",
    "            axes[0, 1].set_title(\"Box Plot\")\n",
    "            axes[0, 1].set_xlabel(\"\")\n",
    "            axes[0, 1].set_ylabel(col)\n",
    "\n",
    "            # KDE Plot\n",
    "            sns.kdeplot(df[col].dropna(), fill=True, color=\"skyblue\", ax=axes[1, 0])\n",
    "            axes[1, 0].set_title(\"Density Plot (KDE)\")\n",
    "            axes[1, 0].set_xlabel(col)\n",
    "            axes[1, 0].set_ylabel(\"Densité\")\n",
    "\n",
    "            # Histogram\n",
    "            sns.histplot(df[col].dropna(), bins=30, kde=False, color=\"teal\", ax=axes[1, 1])\n",
    "            axes[1, 1].set_title(\"Histogramme\")\n",
    "            axes[1, 1].set_xlabel(col)\n",
    "            axes[1, 1].set_ylabel(\"Fréquence\")\n",
    "\n",
    "            plt.show()\n",
    "\n",
    "    dropdown.observe(plot_variable, names='value')\n",
    "\n",
    "    display(dropdown, output)\n",
    "\n",
    "    dropdown.value = numeric_cols[0]"
   ]
  },
  {
   "cell_type": "code",
   "execution_count": 8,
   "id": "e6ad0de5",
   "metadata": {},
   "outputs": [
    {
     "data": {
      "application/vnd.jupyter.widget-view+json": {
       "model_id": "51307083200e40e6baf26e026f7011b6",
       "version_major": 2,
       "version_minor": 0
      },
      "text/plain": [
       "Dropdown(description='Variable:', layout=Layout(width='50%'), options=('age', 'daily_screen_time_hours', 'phon…"
      ]
     },
     "metadata": {},
     "output_type": "display_data"
    },
    {
     "data": {
      "application/vnd.jupyter.widget-view+json": {
       "model_id": "f62fa1d179dc4491b674fc18f3c0fa9c",
       "version_major": 2,
       "version_minor": 0
      },
      "text/plain": [
       "Output()"
      ]
     },
     "metadata": {},
     "output_type": "display_data"
    }
   ],
   "source": [
    "univariate_analysis_dropdown(df)"
   ]
  },
  {
   "cell_type": "markdown",
   "id": "48bb24f8",
   "metadata": {},
   "source": [
    "### categorical data "
   ]
  },
  {
   "cell_type": "code",
   "execution_count": 9,
   "id": "0d20741d",
   "metadata": {},
   "outputs": [
    {
     "name": "stdout",
     "output_type": "stream",
     "text": [
      "              count unique     top freq\n",
      "user_id        2000   2000  user_1    1\n",
      "gender         2000      3  Female  935\n",
      "location_type  2000      3   Urban  999\n"
     ]
    }
   ],
   "source": [
    "def categorical_analysis(df):\n",
    "    return print(df.select_dtypes(include='object').describe().T)\n",
    "categorical_analysis(df)"
   ]
  },
  {
   "cell_type": "code",
   "execution_count": 10,
   "id": "1a680fbc",
   "metadata": {},
   "outputs": [],
   "source": [
    "warnings.filterwarnings(\"ignore\", category=UserWarning)\n",
    "warnings.filterwarnings(\"ignore\", category=FutureWarning)\n",
    "\n",
    "def univariate_analysis_dropdown_categorical(df):\n",
    "    exclude_cols = {'user_id'}\n",
    "    categorical_cols = [col for col in df.select_dtypes(include=['object', 'category']).columns if col not in exclude_cols]\n",
    "\n",
    "    dropdown = widgets.Dropdown(\n",
    "        options=categorical_cols,\n",
    "        description='Variable:',\n",
    "        style={'description_width': 'initial'},\n",
    "        layout=widgets.Layout(width='50%')\n",
    "    )\n",
    "\n",
    "    output = widgets.Output()\n",
    "\n",
    "    def plot_categorical(change):\n",
    "        output.clear_output()\n",
    "        col = change['new']\n",
    "        col_data = df[col].dropna()\n",
    "\n",
    "        with output:\n",
    "            fig, axes = plt.subplots(1, 2, figsize=(15, 6))\n",
    "            fig.suptitle(f'Analyse Univariée de {col}', fontsize=16, fontweight='bold')\n",
    "\n",
    "            sns.countplot(\n",
    "                x=col_data,\n",
    "                order=col_data.value_counts().index,\n",
    "                palette=\"viridis\",\n",
    "                ax=axes[0]\n",
    "            )\n",
    "            axes[0].set_title('Count Plot')\n",
    "            axes[0].set_xlabel(col)\n",
    "            axes[0].set_ylabel('Fréquence')\n",
    "            axes[0].tick_params(axis='x', rotation=45)\n",
    "\n",
    "            # Pie Chart\n",
    "            explode_values = [0.05] * len(col_data.unique())\n",
    "            col_data.value_counts().plot.pie(\n",
    "                autopct='%1.1f%%',\n",
    "                colors=sns.color_palette(\"viridis\", len(col_data.unique())),\n",
    "                explode=explode_values,\n",
    "                ax=axes[1]\n",
    "            )\n",
    "            axes[1].set_title('Pie Chart')\n",
    "            axes[1].set_ylabel('')\n",
    "\n",
    "            plt.tight_layout()\n",
    "            plt.show()\n",
    "\n",
    "    dropdown.observe(plot_categorical, names='value')\n",
    "    \n",
    "    display(dropdown, output)\n",
    "    if categorical_cols:\n",
    "        dropdown.value = categorical_cols[0]\n",
    "    else:\n",
    "        print(\"Aucune variable catégorielle valide trouvée.\")"
   ]
  },
  {
   "cell_type": "code",
   "execution_count": 11,
   "id": "2c0ccda6",
   "metadata": {},
   "outputs": [
    {
     "data": {
      "application/vnd.jupyter.widget-view+json": {
       "model_id": "f39334821edb4d5dad1d600578a61fdb",
       "version_major": 2,
       "version_minor": 0
      },
      "text/plain": [
       "Dropdown(description='Variable:', layout=Layout(width='50%'), options=('gender', 'location_type'), style=Descr…"
      ]
     },
     "metadata": {},
     "output_type": "display_data"
    },
    {
     "data": {
      "application/vnd.jupyter.widget-view+json": {
       "model_id": "6f3c273f392943c9bee560dd27cab657",
       "version_major": 2,
       "version_minor": 0
      },
      "text/plain": [
       "Output()"
      ]
     },
     "metadata": {},
     "output_type": "display_data"
    }
   ],
   "source": [
    "univariate_analysis_dropdown_categorical(df)"
   ]
  },
  {
   "cell_type": "markdown",
   "id": "897dd108",
   "metadata": {},
   "source": [
    "## Multyvarie Analysis"
   ]
  },
  {
   "cell_type": "code",
   "execution_count": 12,
   "id": "d6ab18e2",
   "metadata": {},
   "outputs": [
    {
     "name": "stdout",
     "output_type": "stream",
     "text": [
      "mental_health_score\n",
      "75    2.35\n",
      "36    2.20\n",
      "44    2.15\n",
      "23    2.15\n",
      "74    2.10\n",
      "      ... \n",
      "66    1.25\n",
      "67    1.25\n",
      "25    1.25\n",
      "69    1.15\n",
      "79    1.10\n",
      "Name: proportion, Length: 61, dtype: float64\n"
     ]
    }
   ],
   "source": [
    "print(df[\"mental_health_score\"].value_counts(normalize=True) * 100)\n",
    "target=\"mental_health_score\""
   ]
  },
  {
   "cell_type": "markdown",
   "id": "b0c915dd",
   "metadata": {},
   "source": [
    "### multivariate analysis with respect to the target variable"
   ]
  },
  {
   "cell_type": "code",
   "execution_count": 13,
   "id": "ba7560c3",
   "metadata": {},
   "outputs": [],
   "source": [
    "warnings.filterwarnings(\"ignore\", category=UserWarning)\n",
    "warnings.filterwarnings(\"ignore\", category=FutureWarning)\n",
    "\n",
    "def multivariate_analysis_interactive(df, target, sample_frac=0.3):\n",
    "    categorical_cols = df.select_dtypes(include=['object', 'category']).columns\n",
    "    numeric_cols = df.select_dtypes(include=['float64','int64']).drop(columns=[target], errors='ignore').columns\n",
    "\n",
    "    cat_dropdown = widgets.Dropdown(\n",
    "        options=categorical_cols,\n",
    "        description='Catégorie vs Target',\n",
    "        layout=widgets.Layout(width='60%')\n",
    "    )\n",
    "    \n",
    "    num_dropdown = widgets.Dropdown(\n",
    "        options=numeric_cols,\n",
    "        description='Numérique vs Target',\n",
    "        layout=widgets.Layout(width='60%')\n",
    "    )\n",
    "\n",
    "    cat_output = widgets.Output()\n",
    "    num_output = widgets.Output()\n",
    "\n",
    "    def update_cat_plot(change):\n",
    "        col = change['new']\n",
    "        cat_output.clear_output()\n",
    "        with cat_output:\n",
    "            modalities = df[col].dropna().unique()\n",
    "            n = len(modalities)\n",
    "            fig, axes = plt.subplots(1, n, figsize=(6 * n, 5), sharey=True)\n",
    "            if n == 1:\n",
    "                axes = [axes]\n",
    "            for i, modality in enumerate(modalities):\n",
    "                subset = df[df[col] == modality]\n",
    "                sns.histplot(subset[target], kde=True, ax=axes[i], color='skyblue')\n",
    "                axes[i].set_title(f\"{col} = {modality}\")\n",
    "                axes[i].set_xlabel(target)\n",
    "            plt.suptitle(f\"{target} Distribution par {col}\", fontsize=16)\n",
    "            plt.tight_layout()\n",
    "            plt.show()\n",
    "\n",
    "    def update_num_plot(change):\n",
    "        col = change['new']\n",
    "        num_output.clear_output()\n",
    "        with num_output:\n",
    "            sampled_df = df.sample(frac=sample_frac, random_state=42)\n",
    "            modalities = sampled_df[target].dropna().unique()\n",
    "            n = len(modalities)\n",
    "            fig, axes = plt.subplots(1, n, figsize=(6 * n, 5), sharey=True)\n",
    "            if n == 1:\n",
    "                axes = [axes]\n",
    "\n",
    "            for i, modality in enumerate(modalities):\n",
    "                subset = sampled_df[sampled_df[target] == modality]\n",
    "                sns.scatterplot(data=subset, x=target, y=col, ax=axes[i], alpha=0.5, color='purple')\n",
    "\n",
    "                if pd.api.types.is_numeric_dtype(subset[target]) and pd.api.types.is_numeric_dtype(subset[col]):\n",
    "                    sns.kdeplot(data=subset, x=target, y=col, ax=axes[i], color=\"red\", levels=3)\n",
    "\n",
    "                axes[i].set_title(f\"{target} = {modality}\")\n",
    "                axes[i].set_xlabel(target)\n",
    "                axes[i].set_ylabel(col)\n",
    "\n",
    "            plt.suptitle(f\"{target} vs {col} (Scatter + KDE)\", fontsize=16)\n",
    "            plt.tight_layout()\n",
    "            plt.show()\n",
    "\n",
    "    cat_dropdown.observe(update_cat_plot, names='value')\n",
    "    num_dropdown.observe(update_num_plot, names='value')\n",
    "\n",
    "    display(widgets.HTML(\"<h3>Analyse Multivariée : Catégorielle vs Target</h3>\"))\n",
    "    display(cat_dropdown, cat_output)\n",
    "    if len(categorical_cols) > 0:\n",
    "        cat_dropdown.value = categorical_cols[0]\n",
    "\n",
    "    display(widgets.HTML(\"<h3>Analyse Multivariée : Numérique vs Target</h3>\"))\n",
    "    display(num_dropdown, num_output)\n",
    "    if len(numeric_cols) > 0:\n",
    "        num_dropdown.value = numeric_cols[0]\n"
   ]
  },
  {
   "cell_type": "code",
   "execution_count": 14,
   "id": "c0cf7c21",
   "metadata": {},
   "outputs": [
    {
     "data": {
      "application/vnd.jupyter.widget-view+json": {
       "model_id": "e8e917aa851b45d59d0775d6a319d5e7",
       "version_major": 2,
       "version_minor": 0
      },
      "text/plain": [
       "HTML(value='<h3>Analyse Multivariée : Catégorielle vs Target</h3>')"
      ]
     },
     "metadata": {},
     "output_type": "display_data"
    },
    {
     "data": {
      "application/vnd.jupyter.widget-view+json": {
       "model_id": "c9a28da7841a440d859e749b99b86ce3",
       "version_major": 2,
       "version_minor": 0
      },
      "text/plain": [
       "Dropdown(description='Catégorie vs Target', layout=Layout(width='60%'), options=('user_id', 'gender', 'locatio…"
      ]
     },
     "metadata": {},
     "output_type": "display_data"
    },
    {
     "data": {
      "application/vnd.jupyter.widget-view+json": {
       "model_id": "d63c400494a84731ad9e247f5a490c81",
       "version_major": 2,
       "version_minor": 0
      },
      "text/plain": [
       "Output()"
      ]
     },
     "metadata": {},
     "output_type": "display_data"
    },
    {
     "data": {
      "application/vnd.jupyter.widget-view+json": {
       "model_id": "dc81ce8b46a64902a75ebed37a1ce5d1",
       "version_major": 2,
       "version_minor": 0
      },
      "text/plain": [
       "HTML(value='<h3>Analyse Multivariée : Numérique vs Target</h3>')"
      ]
     },
     "metadata": {},
     "output_type": "display_data"
    },
    {
     "data": {
      "application/vnd.jupyter.widget-view+json": {
       "model_id": "a4f5635edbc94802846272c7c9630e7d",
       "version_major": 2,
       "version_minor": 0
      },
      "text/plain": [
       "Dropdown(description='Numérique vs Target', layout=Layout(width='60%'), options=('age', 'daily_screen_time_hou…"
      ]
     },
     "metadata": {},
     "output_type": "display_data"
    },
    {
     "data": {
      "application/vnd.jupyter.widget-view+json": {
       "model_id": "cff62dbbfa954310acc70bcd8d3f73dd",
       "version_major": 2,
       "version_minor": 0
      },
      "text/plain": [
       "Output()"
      ]
     },
     "metadata": {},
     "output_type": "display_data"
    }
   ],
   "source": [
    "multivariate_analysis_interactive(df, target)\n"
   ]
  },
  {
   "cell_type": "markdown",
   "id": "5cb84815",
   "metadata": {},
   "source": [
    "### Advanced analysis"
   ]
  },
  {
   "cell_type": "code",
   "execution_count": 15,
   "id": "37747c74",
   "metadata": {},
   "outputs": [],
   "source": [
    "def bar_plot_combinations_interactive(df, target):\n",
    "\n",
    "    categorical_cols = df.select_dtypes(include=['object', 'category']).columns.tolist()\n",
    "    numeric_cols = df.select_dtypes(include=['number']).columns.tolist()\n",
    "\n",
    "    if target in categorical_cols:\n",
    "        categorical_cols.remove(target)\n",
    "    if target in numeric_cols:\n",
    "        numeric_cols.remove(target)\n",
    "\n",
    "    cat_dropdown = widgets.Dropdown(options=categorical_cols, description=\"Catégorie\", layout=widgets.Layout(width=\"45%\"))\n",
    "    num_dropdown = widgets.Dropdown(options=numeric_cols, description=\"Numérique\", layout=widgets.Layout(width=\"45%\"))\n",
    "\n",
    "    output_plot = widgets.Output()\n",
    "\n",
    "    def update_plot(change=None):\n",
    "        cat_col = cat_dropdown.value\n",
    "        num_col = num_dropdown.value\n",
    "        output_plot.clear_output()\n",
    "\n",
    "        with output_plot:\n",
    "            if not cat_col or not num_col:\n",
    "                print(\"Veuillez sélectionner une variable catégorielle et une numérique.\")\n",
    "                return\n",
    "\n",
    "            plt.figure(figsize=(10, 6))\n",
    "            sns.barplot(data=df, x=num_col, y=target, hue=cat_col, palette=\"viridis\", alpha=0.6)\n",
    "            plt.title(f\"{target} vs {num_col} by {cat_col}\")\n",
    "            plt.xlabel(num_col)\n",
    "            plt.ylabel(target)\n",
    "            plt.legend(title=cat_col)\n",
    "            plt.tight_layout()\n",
    "            plt.show()\n",
    "\n",
    "    cat_dropdown.observe(update_plot, names=\"value\")\n",
    "    num_dropdown.observe(update_plot, names=\"value\")\n",
    "\n",
    "    display(widgets.HTML(\"<h3>Analyse : bar Plot avec Cible, Numérique et Catégorie</h3>\"))\n",
    "    display(widgets.HBox([cat_dropdown, num_dropdown]))\n",
    "    display(output_plot)\n",
    "\n",
    "    if categorical_cols and numeric_cols:\n",
    "        cat_dropdown.value = categorical_cols[0]\n",
    "        num_dropdown.value = numeric_cols[0]\n"
   ]
  },
  {
   "cell_type": "code",
   "execution_count": 16,
   "id": "e148d895",
   "metadata": {},
   "outputs": [
    {
     "data": {
      "application/vnd.jupyter.widget-view+json": {
       "model_id": "37f66e7496ed4f2ab6a41e45f95981d9",
       "version_major": 2,
       "version_minor": 0
      },
      "text/plain": [
       "HTML(value='<h3>Analyse : bar Plot avec Cible, Numérique et Catégorie</h3>')"
      ]
     },
     "metadata": {},
     "output_type": "display_data"
    },
    {
     "data": {
      "application/vnd.jupyter.widget-view+json": {
       "model_id": "8f62633416c44178be149151a5ff2b7c",
       "version_major": 2,
       "version_minor": 0
      },
      "text/plain": [
       "HBox(children=(Dropdown(description='Catégorie', layout=Layout(width='45%'), options=('user_id', 'gender', 'lo…"
      ]
     },
     "metadata": {},
     "output_type": "display_data"
    },
    {
     "data": {
      "application/vnd.jupyter.widget-view+json": {
       "model_id": "71321dcc860d4da99fd822f9fe669244",
       "version_major": 2,
       "version_minor": 0
      },
      "text/plain": [
       "Output()"
      ]
     },
     "metadata": {},
     "output_type": "display_data"
    }
   ],
   "source": [
    "bar_plot_combinations_interactive(df, target)"
   ]
  },
  {
   "cell_type": "markdown",
   "id": "a0afacab",
   "metadata": {},
   "source": [
    "## correlation matrix"
   ]
  },
  {
   "cell_type": "code",
   "execution_count": 17,
   "id": "fbb5bab4",
   "metadata": {},
   "outputs": [],
   "source": [
    "import os\n",
    "import numpy as np\n",
    "import pandas as pd\n",
    "import matplotlib.pyplot as plt\n",
    "import seaborn as sns\n",
    "from scipy.stats import pearsonr\n",
    "import matplotlib.patches as mpatches\n",
    "\n",
    "def correlation_and_significance(numeric_df, base_folder=\"correlation_analysis\"):\n",
    "    if not os.path.exists(base_folder):\n",
    "        os.makedirs(base_folder)\n",
    "    \n",
    "    cols = numeric_df.columns\n",
    "    corr_matrix = numeric_df.corr()\n",
    "    p_values = pd.DataFrame(np.ones((len(cols), len(cols))), columns=cols, index=cols)\n",
    "    \n",
    "    for row in cols:\n",
    "        for col in cols:\n",
    "            if row != col:\n",
    "                _, p_value = pearsonr(numeric_df[row], numeric_df[col])\n",
    "                p_values.loc[row, col] = p_value\n",
    "    \n",
    "    plt.figure(figsize=(14, 12))\n",
    "    sns.heatmap(corr_matrix, annot=True, cmap='coolwarm', fmt='.2f', linewidths=0.5)\n",
    "    \n",
    "    for i in range(len(cols)):\n",
    "        for j in range(len(cols)):\n",
    "            if i != j:\n",
    "                p_val = p_values.iloc[i, j]\n",
    "                x = j + 0.5\n",
    "                y = i + 0.5\n",
    "                color = 'green' if p_val < 0.05 else 'red'\n",
    "                plt.plot(x, y, 'o', color=color, markersize=8)\n",
    "    \n",
    "    green_patch = mpatches.Patch(color='green', label='Significant (p < 0.05)')\n",
    "    red_patch = mpatches.Patch(color='red', label='Not Significant (p ≥ 0.05)')\n",
    "    plt.legend(handles=[green_patch, red_patch], loc='upper left', bbox_to_anchor=(1.05, 1))\n",
    "    \n",
    "    plt.title('Correlation Matrix with Significance (Numerical Variables)', fontsize=18)\n",
    "    plt.xticks(rotation=45)\n",
    "    plt.yticks(rotation=0)\n",
    "    plt.tight_layout()\n",
    "\n",
    "    corr_plot_path = os.path.join(base_folder, \"correlation_matrix_significance.png\")\n",
    "    plt.savefig(corr_plot_path, bbox_inches='tight')\n",
    "    plt.close()\n",
    "    \n",
    "    print(f\"Correlation matrix with significance saved in: {corr_plot_path}\")\n",
    "\n",
    "    return corr_matrix, p_values, corr_plot_path\n"
   ]
  },
  {
   "cell_type": "markdown",
   "id": "7053a43a",
   "metadata": {},
   "source": [
    "## cleaned data "
   ]
  },
  {
   "cell_type": "markdown",
   "id": "ac89016f",
   "metadata": {},
   "source": [
    "### data issus"
   ]
  },
  {
   "cell_type": "markdown",
   "id": "c9c1e643",
   "metadata": {},
   "source": [
    "#### Corrects invalid categorical and  numerical values"
   ]
  },
  {
   "cell_type": "code",
   "execution_count": 18,
   "id": "db66f57c",
   "metadata": {},
   "outputs": [],
   "source": [
    "categorical_rules = {\n",
    "            \"gender\": [\"Male\", \"Female\", \"Other\"],\n",
    "            \"location_type\": [\"Urban\", \"Suburban\", \"Rural\"],\n",
    "            \"uses_wellness_apps\": [\"Yes\", \"No\"],\n",
    "            \"eats_healthy\": [\"Yes\", \"No\"]\n",
    "        }\n",
    "numeric_rules = {\n",
    "            \"age\": (0, 100),\n",
    "            \"daily_screen_time_hours\": (0, 24),\n",
    "            \"phone_usage_hours\": (0, 24),\n",
    "            \"laptop_usage_hours\": (0, 24),\n",
    "            \"tablet_usage_hours\": (0, 24),\n",
    "            \"tv_usage_hours\": (0, 24),\n",
    "            \"social_media_hours\": (0, 24),\n",
    "            \"work_related_hours\": (0, 24),\n",
    "            \"entertainment_hours\": (0, 24),\n",
    "            \"gaming_hours\": (0, 24),\n",
    "            \"sleep_duration_hours\": (0, 24),\n",
    "            \"mood_rating\": (0, 10),\n",
    "            \"stress_level\": (0, 10),\n",
    "            \"physical_activity_hours_per_week\": (0, 40),\n",
    "            \"caffeine_intake_mg_per_day\": (0, 1000),\n",
    "            \"weekly_anxiety_score\": (0, 100),\n",
    "            \"weekly_depression_score\": (0, 100),\n",
    "            \"mindfulness_minutes_per_day\": (0, 1440),\n",
    "            \"mental_health_score\": (0, 100)\n",
    "        }\n"
   ]
  },
  {
   "cell_type": "code",
   "execution_count": 19,
   "id": "45dd651b",
   "metadata": {},
   "outputs": [],
   "source": [
    "class ScreenTimeDataCleaner:\n",
    "    def __init__(self, df):\n",
    "        self.df = df.copy()\n",
    "\n",
    "    def correct_categorical_values(self):    \n",
    "        for col, valid_values in categorical_rules.items():\n",
    "            if col in self.df.columns:\n",
    "                self.df[col] = self.df[col].where(self.df[col].isin(valid_values), np.nan)\n",
    "                mode_val = self.df[col].mode(dropna=True)\n",
    "                if not mode_val.empty:\n",
    "                    self.df[col].fillna(mode_val[0], inplace=True)\n",
    "        return self\n",
    "\n",
    "    def correct_numerical_values(self):        \n",
    "        for col, (min_val, max_val) in numeric_rules.items():\n",
    "            if col in self.df.columns:\n",
    "                self.df[col] = pd.to_numeric(self.df[col], errors='coerce')\n",
    "                self.df[col] = np.where((self.df[col] < min_val) | (self.df[col] > max_val), np.nan, self.df[col])\n",
    "                median_val = self.df[col].median(skipna=True)\n",
    "                self.df[col].fillna(median_val, inplace=True)\n",
    "        return self\n",
    "\n",
    "    def clean_data(self):\n",
    "        return (\n",
    "            self.correct_categorical_values()\n",
    "                .correct_numerical_values()\n",
    "                .df\n",
    "        )\n",
    "\n",
    "cleaner = ScreenTimeDataCleaner(df)\n",
    "df_cleaned = cleaner.clean_data()\n"
   ]
  },
  {
   "cell_type": "markdown",
   "id": "c55d2bc2",
   "metadata": {},
   "source": [
    "###  Removing duplicates rows"
   ]
  },
  {
   "cell_type": "code",
   "execution_count": 20,
   "id": "af16666f",
   "metadata": {},
   "outputs": [
    {
     "name": "stdout",
     "output_type": "stream",
     "text": [
      "Total Rows: 2000\n",
      "Duplicate Rows: 0 (0.00%)\n",
      "No duplicates found. No rows removed.\n"
     ]
    },
    {
     "data": {
      "text/html": [
       "<div>\n",
       "<style scoped>\n",
       "    .dataframe tbody tr th:only-of-type {\n",
       "        vertical-align: middle;\n",
       "    }\n",
       "\n",
       "    .dataframe tbody tr th {\n",
       "        vertical-align: top;\n",
       "    }\n",
       "\n",
       "    .dataframe thead th {\n",
       "        text-align: right;\n",
       "    }\n",
       "</style>\n",
       "<table border=\"1\" class=\"dataframe\">\n",
       "  <thead>\n",
       "    <tr style=\"text-align: right;\">\n",
       "      <th></th>\n",
       "      <th>user_id</th>\n",
       "      <th>age</th>\n",
       "      <th>gender</th>\n",
       "      <th>daily_screen_time_hours</th>\n",
       "      <th>phone_usage_hours</th>\n",
       "      <th>laptop_usage_hours</th>\n",
       "      <th>tablet_usage_hours</th>\n",
       "      <th>tv_usage_hours</th>\n",
       "      <th>social_media_hours</th>\n",
       "      <th>work_related_hours</th>\n",
       "      <th>...</th>\n",
       "      <th>stress_level</th>\n",
       "      <th>physical_activity_hours_per_week</th>\n",
       "      <th>location_type</th>\n",
       "      <th>mental_health_score</th>\n",
       "      <th>uses_wellness_apps</th>\n",
       "      <th>eats_healthy</th>\n",
       "      <th>caffeine_intake_mg_per_day</th>\n",
       "      <th>weekly_anxiety_score</th>\n",
       "      <th>weekly_depression_score</th>\n",
       "      <th>mindfulness_minutes_per_day</th>\n",
       "    </tr>\n",
       "  </thead>\n",
       "  <tbody>\n",
       "    <tr>\n",
       "      <th>0</th>\n",
       "      <td>user_1</td>\n",
       "      <td>51</td>\n",
       "      <td>Female</td>\n",
       "      <td>4.8</td>\n",
       "      <td>3.4</td>\n",
       "      <td>1.3</td>\n",
       "      <td>1.6</td>\n",
       "      <td>1.6</td>\n",
       "      <td>4.1</td>\n",
       "      <td>2.0</td>\n",
       "      <td>...</td>\n",
       "      <td>10</td>\n",
       "      <td>0.7</td>\n",
       "      <td>Urban</td>\n",
       "      <td>32</td>\n",
       "      <td>1</td>\n",
       "      <td>1</td>\n",
       "      <td>125.2</td>\n",
       "      <td>13</td>\n",
       "      <td>15</td>\n",
       "      <td>4.0</td>\n",
       "    </tr>\n",
       "    <tr>\n",
       "      <th>1</th>\n",
       "      <td>user_2</td>\n",
       "      <td>64</td>\n",
       "      <td>Male</td>\n",
       "      <td>3.9</td>\n",
       "      <td>3.5</td>\n",
       "      <td>1.8</td>\n",
       "      <td>0.9</td>\n",
       "      <td>2.0</td>\n",
       "      <td>2.7</td>\n",
       "      <td>3.1</td>\n",
       "      <td>...</td>\n",
       "      <td>6</td>\n",
       "      <td>4.3</td>\n",
       "      <td>Suburban</td>\n",
       "      <td>75</td>\n",
       "      <td>0</td>\n",
       "      <td>1</td>\n",
       "      <td>150.4</td>\n",
       "      <td>19</td>\n",
       "      <td>18</td>\n",
       "      <td>6.5</td>\n",
       "    </tr>\n",
       "    <tr>\n",
       "      <th>2</th>\n",
       "      <td>user_3</td>\n",
       "      <td>41</td>\n",
       "      <td>Other</td>\n",
       "      <td>10.5</td>\n",
       "      <td>2.1</td>\n",
       "      <td>2.6</td>\n",
       "      <td>0.7</td>\n",
       "      <td>2.2</td>\n",
       "      <td>3.0</td>\n",
       "      <td>2.8</td>\n",
       "      <td>...</td>\n",
       "      <td>5</td>\n",
       "      <td>3.1</td>\n",
       "      <td>Suburban</td>\n",
       "      <td>22</td>\n",
       "      <td>0</td>\n",
       "      <td>0</td>\n",
       "      <td>187.9</td>\n",
       "      <td>7</td>\n",
       "      <td>3</td>\n",
       "      <td>6.9</td>\n",
       "    </tr>\n",
       "    <tr>\n",
       "      <th>3</th>\n",
       "      <td>user_4</td>\n",
       "      <td>27</td>\n",
       "      <td>Other</td>\n",
       "      <td>8.8</td>\n",
       "      <td>0.0</td>\n",
       "      <td>0.0</td>\n",
       "      <td>0.7</td>\n",
       "      <td>2.5</td>\n",
       "      <td>3.3</td>\n",
       "      <td>1.6</td>\n",
       "      <td>...</td>\n",
       "      <td>5</td>\n",
       "      <td>0.0</td>\n",
       "      <td>Rural</td>\n",
       "      <td>22</td>\n",
       "      <td>0</td>\n",
       "      <td>1</td>\n",
       "      <td>73.6</td>\n",
       "      <td>7</td>\n",
       "      <td>2</td>\n",
       "      <td>4.8</td>\n",
       "    </tr>\n",
       "    <tr>\n",
       "      <th>4</th>\n",
       "      <td>user_5</td>\n",
       "      <td>55</td>\n",
       "      <td>Male</td>\n",
       "      <td>5.9</td>\n",
       "      <td>1.7</td>\n",
       "      <td>1.1</td>\n",
       "      <td>1.5</td>\n",
       "      <td>1.6</td>\n",
       "      <td>1.1</td>\n",
       "      <td>3.6</td>\n",
       "      <td>...</td>\n",
       "      <td>7</td>\n",
       "      <td>3.0</td>\n",
       "      <td>Urban</td>\n",
       "      <td>64</td>\n",
       "      <td>1</td>\n",
       "      <td>1</td>\n",
       "      <td>217.5</td>\n",
       "      <td>8</td>\n",
       "      <td>10</td>\n",
       "      <td>0.0</td>\n",
       "    </tr>\n",
       "    <tr>\n",
       "      <th>...</th>\n",
       "      <td>...</td>\n",
       "      <td>...</td>\n",
       "      <td>...</td>\n",
       "      <td>...</td>\n",
       "      <td>...</td>\n",
       "      <td>...</td>\n",
       "      <td>...</td>\n",
       "      <td>...</td>\n",
       "      <td>...</td>\n",
       "      <td>...</td>\n",
       "      <td>...</td>\n",
       "      <td>...</td>\n",
       "      <td>...</td>\n",
       "      <td>...</td>\n",
       "      <td>...</td>\n",
       "      <td>...</td>\n",
       "      <td>...</td>\n",
       "      <td>...</td>\n",
       "      <td>...</td>\n",
       "      <td>...</td>\n",
       "      <td>...</td>\n",
       "    </tr>\n",
       "    <tr>\n",
       "      <th>1995</th>\n",
       "      <td>user_1996</td>\n",
       "      <td>58</td>\n",
       "      <td>Female</td>\n",
       "      <td>5.6</td>\n",
       "      <td>4.0</td>\n",
       "      <td>2.5</td>\n",
       "      <td>0.3</td>\n",
       "      <td>1.5</td>\n",
       "      <td>1.1</td>\n",
       "      <td>1.2</td>\n",
       "      <td>...</td>\n",
       "      <td>9</td>\n",
       "      <td>0.0</td>\n",
       "      <td>Urban</td>\n",
       "      <td>62</td>\n",
       "      <td>0</td>\n",
       "      <td>1</td>\n",
       "      <td>164.9</td>\n",
       "      <td>20</td>\n",
       "      <td>17</td>\n",
       "      <td>4.9</td>\n",
       "    </tr>\n",
       "    <tr>\n",
       "      <th>1996</th>\n",
       "      <td>user_1997</td>\n",
       "      <td>62</td>\n",
       "      <td>Female</td>\n",
       "      <td>3.9</td>\n",
       "      <td>3.1</td>\n",
       "      <td>1.0</td>\n",
       "      <td>1.5</td>\n",
       "      <td>1.1</td>\n",
       "      <td>2.7</td>\n",
       "      <td>4.1</td>\n",
       "      <td>...</td>\n",
       "      <td>8</td>\n",
       "      <td>2.7</td>\n",
       "      <td>Urban</td>\n",
       "      <td>29</td>\n",
       "      <td>0</td>\n",
       "      <td>0</td>\n",
       "      <td>172.6</td>\n",
       "      <td>15</td>\n",
       "      <td>15</td>\n",
       "      <td>25.5</td>\n",
       "    </tr>\n",
       "    <tr>\n",
       "      <th>1997</th>\n",
       "      <td>user_1998</td>\n",
       "      <td>64</td>\n",
       "      <td>Female</td>\n",
       "      <td>7.4</td>\n",
       "      <td>3.0</td>\n",
       "      <td>0.0</td>\n",
       "      <td>1.4</td>\n",
       "      <td>0.9</td>\n",
       "      <td>0.8</td>\n",
       "      <td>2.6</td>\n",
       "      <td>...</td>\n",
       "      <td>4</td>\n",
       "      <td>6.5</td>\n",
       "      <td>Urban</td>\n",
       "      <td>54</td>\n",
       "      <td>1</td>\n",
       "      <td>0</td>\n",
       "      <td>101.3</td>\n",
       "      <td>1</td>\n",
       "      <td>20</td>\n",
       "      <td>9.5</td>\n",
       "    </tr>\n",
       "    <tr>\n",
       "      <th>1998</th>\n",
       "      <td>user_1999</td>\n",
       "      <td>19</td>\n",
       "      <td>Male</td>\n",
       "      <td>4.2</td>\n",
       "      <td>4.4</td>\n",
       "      <td>2.3</td>\n",
       "      <td>0.9</td>\n",
       "      <td>1.4</td>\n",
       "      <td>1.7</td>\n",
       "      <td>1.2</td>\n",
       "      <td>...</td>\n",
       "      <td>8</td>\n",
       "      <td>2.6</td>\n",
       "      <td>Urban</td>\n",
       "      <td>28</td>\n",
       "      <td>0</td>\n",
       "      <td>0</td>\n",
       "      <td>123.7</td>\n",
       "      <td>1</td>\n",
       "      <td>11</td>\n",
       "      <td>13.4</td>\n",
       "    </tr>\n",
       "    <tr>\n",
       "      <th>1999</th>\n",
       "      <td>user_2000</td>\n",
       "      <td>15</td>\n",
       "      <td>Female</td>\n",
       "      <td>4.5</td>\n",
       "      <td>3.6</td>\n",
       "      <td>1.2</td>\n",
       "      <td>1.4</td>\n",
       "      <td>1.8</td>\n",
       "      <td>2.7</td>\n",
       "      <td>1.8</td>\n",
       "      <td>...</td>\n",
       "      <td>10</td>\n",
       "      <td>6.3</td>\n",
       "      <td>Urban</td>\n",
       "      <td>59</td>\n",
       "      <td>1</td>\n",
       "      <td>0</td>\n",
       "      <td>173.1</td>\n",
       "      <td>0</td>\n",
       "      <td>17</td>\n",
       "      <td>10.0</td>\n",
       "    </tr>\n",
       "  </tbody>\n",
       "</table>\n",
       "<p>2000 rows × 25 columns</p>\n",
       "</div>"
      ],
      "text/plain": [
       "        user_id  age  gender  daily_screen_time_hours  phone_usage_hours  \\\n",
       "0        user_1   51  Female                      4.8                3.4   \n",
       "1        user_2   64    Male                      3.9                3.5   \n",
       "2        user_3   41   Other                     10.5                2.1   \n",
       "3        user_4   27   Other                      8.8                0.0   \n",
       "4        user_5   55    Male                      5.9                1.7   \n",
       "...         ...  ...     ...                      ...                ...   \n",
       "1995  user_1996   58  Female                      5.6                4.0   \n",
       "1996  user_1997   62  Female                      3.9                3.1   \n",
       "1997  user_1998   64  Female                      7.4                3.0   \n",
       "1998  user_1999   19    Male                      4.2                4.4   \n",
       "1999  user_2000   15  Female                      4.5                3.6   \n",
       "\n",
       "      laptop_usage_hours  tablet_usage_hours  tv_usage_hours  \\\n",
       "0                    1.3                 1.6             1.6   \n",
       "1                    1.8                 0.9             2.0   \n",
       "2                    2.6                 0.7             2.2   \n",
       "3                    0.0                 0.7             2.5   \n",
       "4                    1.1                 1.5             1.6   \n",
       "...                  ...                 ...             ...   \n",
       "1995                 2.5                 0.3             1.5   \n",
       "1996                 1.0                 1.5             1.1   \n",
       "1997                 0.0                 1.4             0.9   \n",
       "1998                 2.3                 0.9             1.4   \n",
       "1999                 1.2                 1.4             1.8   \n",
       "\n",
       "      social_media_hours  work_related_hours  ...  stress_level  \\\n",
       "0                    4.1                 2.0  ...            10   \n",
       "1                    2.7                 3.1  ...             6   \n",
       "2                    3.0                 2.8  ...             5   \n",
       "3                    3.3                 1.6  ...             5   \n",
       "4                    1.1                 3.6  ...             7   \n",
       "...                  ...                 ...  ...           ...   \n",
       "1995                 1.1                 1.2  ...             9   \n",
       "1996                 2.7                 4.1  ...             8   \n",
       "1997                 0.8                 2.6  ...             4   \n",
       "1998                 1.7                 1.2  ...             8   \n",
       "1999                 2.7                 1.8  ...            10   \n",
       "\n",
       "      physical_activity_hours_per_week  location_type  mental_health_score  \\\n",
       "0                                  0.7          Urban                   32   \n",
       "1                                  4.3       Suburban                   75   \n",
       "2                                  3.1       Suburban                   22   \n",
       "3                                  0.0          Rural                   22   \n",
       "4                                  3.0          Urban                   64   \n",
       "...                                ...            ...                  ...   \n",
       "1995                               0.0          Urban                   62   \n",
       "1996                               2.7          Urban                   29   \n",
       "1997                               6.5          Urban                   54   \n",
       "1998                               2.6          Urban                   28   \n",
       "1999                               6.3          Urban                   59   \n",
       "\n",
       "      uses_wellness_apps  eats_healthy  caffeine_intake_mg_per_day  \\\n",
       "0                      1             1                       125.2   \n",
       "1                      0             1                       150.4   \n",
       "2                      0             0                       187.9   \n",
       "3                      0             1                        73.6   \n",
       "4                      1             1                       217.5   \n",
       "...                  ...           ...                         ...   \n",
       "1995                   0             1                       164.9   \n",
       "1996                   0             0                       172.6   \n",
       "1997                   1             0                       101.3   \n",
       "1998                   0             0                       123.7   \n",
       "1999                   1             0                       173.1   \n",
       "\n",
       "     weekly_anxiety_score  weekly_depression_score  \\\n",
       "0                      13                       15   \n",
       "1                      19                       18   \n",
       "2                       7                        3   \n",
       "3                       7                        2   \n",
       "4                       8                       10   \n",
       "...                   ...                      ...   \n",
       "1995                   20                       17   \n",
       "1996                   15                       15   \n",
       "1997                    1                       20   \n",
       "1998                    1                       11   \n",
       "1999                    0                       17   \n",
       "\n",
       "      mindfulness_minutes_per_day  \n",
       "0                             4.0  \n",
       "1                             6.5  \n",
       "2                             6.9  \n",
       "3                             4.8  \n",
       "4                             0.0  \n",
       "...                           ...  \n",
       "1995                          4.9  \n",
       "1996                         25.5  \n",
       "1997                          9.5  \n",
       "1998                         13.4  \n",
       "1999                         10.0  \n",
       "\n",
       "[2000 rows x 25 columns]"
      ]
     },
     "execution_count": 20,
     "metadata": {},
     "output_type": "execute_result"
    }
   ],
   "source": [
    "def remove_duplicates(df, subset=None, keep='first', inplace=False):\n",
    "    total_rows = len(df)\n",
    "    \n",
    "    duplicate_rows = df.duplicated(subset=subset, keep=False).sum()\n",
    "    percentage_duplicates = (duplicate_rows / total_rows) * 100\n",
    "    print(f\"Total Rows: {total_rows}\")\n",
    "    print(f\"Duplicate Rows: {duplicate_rows} ({percentage_duplicates:.2f}%)\")\n",
    "    if duplicate_rows == 0:\n",
    "        print(\"No duplicates found. No rows removed.\")\n",
    "        return df if not inplace else None\n",
    "        duplicated_mask = df.duplicated(subset=subset, keep=False)\n",
    "        result = df[~duplicated_mask]\n",
    "    else:\n",
    "        result = df.drop_duplicates(subset=subset, keep=keep)\n",
    "    remaining_rows = len(result)\n",
    "    rows_removed = total_rows - remaining_rows\n",
    "    print(f\"Rows Removed: {rows_removed}\")\n",
    "    print(f\"Remaining Rows: {remaining_rows}\")\n",
    "    if rows_removed > 0:\n",
    "        print(\"Duplicates successfully removed.\")\n",
    "    else:\n",
    "        print(\"No duplicates were removed.\")\n",
    "    if inplace:\n",
    "        df.drop_duplicates(subset=subset, keep=keep, inplace=True)\n",
    "    else:\n",
    "        return result\n",
    "remove_duplicates(df, subset=None, keep='first', inplace=False)"
   ]
  },
  {
   "cell_type": "markdown",
   "id": "76becc89",
   "metadata": {},
   "source": [
    "### outliers \n"
   ]
  },
  {
   "cell_type": "code",
   "execution_count": 21,
   "id": "1986f619",
   "metadata": {},
   "outputs": [],
   "source": [
    "class DataCleaner:\n",
    "    def __init__(self, df):\n",
    "        self.df = df\n",
    "        self.numeric_columns = self.df.select_dtypes(include=['number']).columns.to_list()\n",
    "\n",
    "    def remove_na_inf(self):\n",
    "        self.df[self.numeric_columns] = self.df[self.numeric_columns].replace([np.inf, -np.inf], np.nan).dropna()\n",
    "        print(\" NaN and infinite values removed.\")\n",
    "\n",
    "    def detect_outliers_iqr(self):\n",
    "        outliers_dict = {}\n",
    "        for col in self.numeric_columns:\n",
    "            Q1 = self.df[col].quantile(0.25)\n",
    "            Q3 = self.df[col].quantile(0.75)\n",
    "            IQR = Q3 - Q1\n",
    "            lower_bound = Q1 - 1.5 * IQR\n",
    "            upper_bound = Q3 + 1.5 * IQR\n",
    "\n",
    "            outliers = self.df[(self.df[col] < lower_bound) | (self.df[col] > upper_bound)].index\n",
    "            outliers_dict[col] = outliers\n",
    "\n",
    "        return outliers_dict\n",
    "\n",
    "    def drop_outliers(self):\n",
    "        \"\"\"Drops rows containing outliers based on the IQR method.\"\"\"\n",
    "        outliers_dict = self.detect_outliers_iqr()\n",
    "        outlier_indices = set(index for indices in outliers_dict.values() for index in indices)\n",
    "        self.df = self.df.drop(outlier_indices)\n",
    "        print(\" Outliers removed.\")\n",
    "\n",
    "    def replace_outliers_iqr(self):\n",
    "        for col in self.numeric_columns:\n",
    "            Q1 = self.df[col].quantile(0.25)\n",
    "            Q3 = self.df[col].quantile(0.75)\n",
    "            IQR = Q3 - Q1\n",
    "            lower_bound = Q1 - 1.5 * IQR\n",
    "            upper_bound = Q3 + 1.5 * IQR\n",
    "\n",
    "            self.df[col] = np.where(self.df[col] < lower_bound, lower_bound, self.df[col])\n",
    "            self.df[col] = np.where(self.df[col] > upper_bound, upper_bound, self.df[col])\n",
    "        \n",
    "        print(\" Outliers replaced using IQR bounds.\")\n",
    "\n",
    "    def replace_outliers_median(self):\n",
    "        for col in self.numeric_columns:\n",
    "            Q1 = self.df[col].quantile(0.25)\n",
    "            Q3 = self.df[col].quantile(0.75)\n",
    "            IQR = Q3 - Q1\n",
    "            lower_bound = Q1 - 1.5 * IQR\n",
    "            upper_bound = Q3 + 1.5 * IQR\n",
    "            median_value = self.df[col].median()\n",
    "\n",
    "            self.df[col] = np.where((self.df[col] < lower_bound) | (self.df[col] > upper_bound), median_value, self.df[col])\n",
    "        \n",
    "        print(\" Outliers replaced with median.\")\n",
    "\n",
    "    def replace_outliers_knn(self, n_neighbors=5):\n",
    "        imputer = KNNImputer(n_neighbors=n_neighbors)\n",
    "        self.df[self.numeric_columns] = imputer.fit_transform(self.df[self.numeric_columns])\n",
    "        print(\" Outliers replaced using KNN imputation.\")\n",
    "\n",
    "    def save_cleaned_data(self, filename=\"cleaned_data.csv\"):\n",
    "        self.df.to_csv(filename, index=False)\n",
    "        print(f\" Cleaned data saved to {filename}.\")\n",
    "\n",
    "    def clean_data(self, method=\"median\"):\n",
    "        self.remove_na_inf()  \n",
    "\n",
    "        if method == \"drop\":\n",
    "            self.drop_outliers()\n",
    "        elif method == \"winsorization\":\n",
    "            self.replace_outliers_iqr()\n",
    "        elif method == \"median\":\n",
    "            self.replace_outliers_median()\n",
    "        elif method == \"knn\":\n",
    "            self.replace_outliers_knn()\n",
    "        else:\n",
    "            print(\"Invalid method. Choose from 'drop', 'winsorization', 'median', 'knn'.\")\n",
    "\n",
    "        self.save_cleaned_data()\n"
   ]
  },
  {
   "cell_type": "code",
   "execution_count": 22,
   "id": "d3ad4eaa",
   "metadata": {},
   "outputs": [
    {
     "name": "stdout",
     "output_type": "stream",
     "text": [
      " NaN and infinite values removed.\n",
      " Outliers replaced with median.\n",
      " Cleaned data saved to cleaned_data.csv.\n"
     ]
    }
   ],
   "source": [
    "cleaner = DataCleaner(df)\n",
    "cleaner.clean_data(method=\"median\") "
   ]
  },
  {
   "cell_type": "markdown",
   "id": "13931fb9",
   "metadata": {},
   "source": [
    "### no missing values and right  data types"
   ]
  },
  {
   "cell_type": "markdown",
   "id": "15e29533",
   "metadata": {},
   "source": [
    "## manipulation of target variables "
   ]
  },
  {
   "cell_type": "markdown",
   "id": "f0eb1d13",
   "metadata": {},
   "source": [
    "#### 1. Quantile-based binning (tertiles, quartiles, quintiles)\n",
    "\n",
    "This splits the data based on distribution percentiles."
   ]
  },
  {
   "cell_type": "code",
   "execution_count": 23,
   "id": "73862e71",
   "metadata": {},
   "outputs": [
    {
     "name": "stdout",
     "output_type": "stream",
     "text": [
      "mental_health_quartile\n",
      "0    522\n",
      "3    500\n",
      "2    493\n",
      "1    485\n",
      "Name: count, dtype: int64\n"
     ]
    }
   ],
   "source": [
    "df['mental_health_quartile'] = pd.qcut(df['mental_health_score'], q=4, labels=[0, 1, 2, 3])\n",
    "print(df['mental_health_quartile'].value_counts())"
   ]
  },
  {
   "cell_type": "markdown",
   "id": "a5198994",
   "metadata": {},
   "source": [
    "####  2. Fixed interval binning (numeric ranges)\n",
    "Use custom-defined numeric intervals to create categories"
   ]
  },
  {
   "cell_type": "code",
   "execution_count": 24,
   "id": "b35f265b",
   "metadata": {},
   "outputs": [
    {
     "name": "stdout",
     "output_type": "stream",
     "text": [
      "mental_health_category\n",
      "low       701\n",
      "medium    657\n",
      "high      642\n",
      "Name: count, dtype: int64\n"
     ]
    }
   ],
   "source": [
    "bins = [20, 40, 60, 80]  \n",
    "labels = ['low', 'medium', 'high']\n",
    "df['mental_health_category'] = pd.cut(df['mental_health_score'], bins=bins, labels=labels, include_lowest=True)\n",
    "print(df['mental_health_category'].value_counts())"
   ]
  },
  {
   "cell_type": "markdown",
   "id": "5c6c8420",
   "metadata": {},
   "source": [
    "#### 3. K-Means clustering\n",
    "Use unsupervised clustering (k-means) to automatically group the values."
   ]
  },
  {
   "cell_type": "code",
   "execution_count": 25,
   "id": "7ea1c1ff",
   "metadata": {},
   "outputs": [
    {
     "name": "stdout",
     "output_type": "stream",
     "text": [
      "mental_health_cluster\n",
      "1    701\n",
      "0    657\n",
      "2    642\n",
      "Name: count, dtype: int64\n"
     ]
    }
   ],
   "source": [
    "from sklearn.cluster import KMeans\n",
    "\n",
    "kmeans = KMeans(n_clusters=3, random_state=0)\n",
    "df['mental_health_cluster'] = kmeans.fit_predict(df[['mental_health_score']])\n",
    "print(df['mental_health_cluster'].value_counts())\n"
   ]
  },
  {
   "cell_type": "markdown",
   "id": "6023fd13",
   "metadata": {},
   "source": [
    "## feature eng"
   ]
  },
  {
   "cell_type": "markdown",
   "id": "3bc8e95a",
   "metadata": {},
   "source": [
    "### new variables "
   ]
  },
  {
   "cell_type": "markdown",
   "id": "bf4f7e84",
   "metadata": {},
   "source": [
    "#### Age Group \n",
    "Transforms age into meaningful groups, capturing behavioral or health patterns by life stage.\n"
   ]
  },
  {
   "cell_type": "code",
   "execution_count": 26,
   "id": "ec480a26",
   "metadata": {},
   "outputs": [],
   "source": [
    "df['age_group'] = pd.cut(df['age'], bins=[0, 18, 25, 35, 50, 65, 100],\n",
    "                        labels=['Teen', 'Young Adult', 'Adult', 'Mid-Age', 'Senior', 'Elderly'])"
   ]
  },
  {
   "cell_type": "markdown",
   "id": "986c8504",
   "metadata": {},
   "source": [
    "#### screen_usage_ratio\n",
    "Measures the proportion of screen time relative to sleep and physical activity."
   ]
  },
  {
   "cell_type": "code",
   "execution_count": 27,
   "id": "398c8ecc",
   "metadata": {},
   "outputs": [],
   "source": [
    "df['screen_usage_ratio'] = df['daily_screen_time_hours'] / (\n",
    "    df['sleep_duration_hours'] + df['physical_activity_hours_per_week'].replace(0, np.nan)\n",
    ")\n",
    "df['screen_usage_ratio'].fillna(0, inplace=True)"
   ]
  },
  {
   "cell_type": "markdown",
   "id": "a71ac5e1",
   "metadata": {},
   "source": [
    "####  wellbeing_score\n",
    "Composite well-being score based on mood, stress, sleep quality, and mental health.\n"
   ]
  },
  {
   "cell_type": "code",
   "execution_count": 28,
   "id": "91362a32",
   "metadata": {},
   "outputs": [],
   "source": [
    "df['wellbeing_score'] = (\n",
    "    df['mood_rating'] - df['stress_level'] +\n",
    "    df['sleep_quality'] + df['mental_health_score']\n",
    ")"
   ]
  },
  {
   "cell_type": "markdown",
   "id": "edd79d72",
   "metadata": {},
   "source": [
    "####  Productivity Ratio\n",
    "Focused screen time (work-related) vs total screen usage."
   ]
  },
  {
   "cell_type": "code",
   "execution_count": 29,
   "id": "9f7dacad",
   "metadata": {},
   "outputs": [],
   "source": [
    "total_usage = df[['phone_usage_hours', 'laptop_usage_hours', 'tablet_usage_hours', 'tv_usage_hours']].sum(axis=1)\n",
    "df['productivity_ratio'] = df['work_related_hours'] / total_usage.replace(0, np.nan)\n",
    "df['productivity_ratio'].fillna(0, inplace=True)"
   ]
  },
  {
   "cell_type": "markdown",
   "id": "5507cb97",
   "metadata": {},
   "source": [
    "#### Healthy Habits Count\n",
    "Number of healthy lifestyle choices active for a user."
   ]
  },
  {
   "cell_type": "code",
   "execution_count": 30,
   "id": "112ca58f",
   "metadata": {},
   "outputs": [],
   "source": [
    "df['healthy_habits_count'] = (\n",
    "    df['eats_healthy'].astype(int) +\n",
    "    df['uses_wellness_apps'].astype(int) +\n",
    "    (df['physical_activity_hours_per_week'] > 2).astype(int) +\n",
    "    (df['mindfulness_minutes_per_day'] > 10).astype(int)\n",
    ")"
   ]
  },
  {
   "cell_type": "markdown",
   "id": "346920cc",
   "metadata": {},
   "source": [
    "###  to eliminate in order to reduce overfitting, using both correlation and VIF (Variance Inflation Factor) analysis\n",
    "\n",
    " VIF > 5 → high multicollinearity. Consider removing .\n",
    "\n",
    " VIF between 1 and 5 → acceptable.\n",
    "\n",
    " VIF ≈ 1 → ideal, no multicollinearity."
   ]
  },
  {
   "cell_type": "code",
   "execution_count": 31,
   "id": "57c5d727",
   "metadata": {},
   "outputs": [
    {
     "name": "stdout",
     "output_type": "stream",
     "text": [
      "\n",
      "--- VIF Results ---\n",
      "\n",
      "                             feature       VIF\n",
      "24                productivity_ratio  6.636077\n",
      "25              healthy_habits_count  5.377200\n",
      "7                 work_related_hours  5.314624\n",
      "16                      eats_healthy  2.511924\n",
      "15                uses_wellness_apps  2.403909\n",
      "22                screen_usage_ratio  2.141776\n",
      "20       mindfulness_minutes_per_day  2.008611\n",
      "1            daily_screen_time_hours  1.951982\n",
      "14  physical_activity_hours_per_week  1.852514\n",
      "2                  phone_usage_hours  1.707680\n",
      "3                 laptop_usage_hours  1.362677\n",
      "23                   wellbeing_score  1.361460\n",
      "5                     tv_usage_hours  1.317282\n",
      "21             mental_health_cluster  1.277256\n",
      "10              sleep_duration_hours  1.178099\n",
      "4                 tablet_usage_hours  1.120487\n",
      "13                      stress_level  1.056435\n",
      "11                     sleep_quality  1.040375\n",
      "12                       mood_rating  1.037127\n",
      "6                 social_media_hours  1.016972\n",
      "17        caffeine_intake_mg_per_day  1.014394\n",
      "8                entertainment_hours  1.014225\n",
      "19           weekly_depression_score  1.014132\n",
      "0                                age  1.012693\n",
      "18              weekly_anxiety_score  1.010798\n",
      "9                       gaming_hours  1.009390\n"
     ]
    }
   ],
   "source": [
    "from statsmodels.stats.outliers_influence import variance_inflation_factor\n",
    "from sklearn.preprocessing import StandardScaler\n",
    "\n",
    "numeric_df = df.select_dtypes(include=[np.number])\n",
    "def compute_vif(data):\n",
    "    \"\"\"Calculate VIF for each numeric feature\"\"\"\n",
    "    scaler = StandardScaler()\n",
    "    X_scaled = scaler.fit_transform(data.dropna())\n",
    "    vif_data = pd.DataFrame()\n",
    "    vif_data[\"feature\"] = data.columns\n",
    "    vif_data[\"VIF\"] = [variance_inflation_factor(X_scaled, i) for i in range(X_scaled.shape[1])]\n",
    "    return vif_data.sort_values(by=\"VIF\", ascending=False)\n",
    "\n",
    "features_for_vif = numeric_df.drop(columns=['mental_health_score'], errors='ignore')\n",
    "vif_result = compute_vif(features_for_vif)\n",
    "\n",
    "print(\"\\n--- VIF Results ---\\n\")\n",
    "print(vif_result)\n"
   ]
  },
  {
   "cell_type": "code",
   "execution_count": 32,
   "id": "c3ffaad5",
   "metadata": {},
   "outputs": [],
   "source": [
    "cols_to_drop = [\"age\",'productivity_ratio','sleep_duration_hours','healthy_habits_count','work_related_hours' ]\n",
    "\n",
    "df= df.drop(columns=cols_to_drop)\n"
   ]
  },
  {
   "cell_type": "markdown",
   "id": "d1664070",
   "metadata": {},
   "source": [
    "### label Ecoding "
   ]
  },
  {
   "cell_type": "code",
   "execution_count": 33,
   "id": "8cca24ce",
   "metadata": {},
   "outputs": [
    {
     "name": "stdout",
     "output_type": "stream",
     "text": [
      "3 \n",
      " ['gender', 'location_type', 'age_group']\n"
     ]
    }
   ],
   "source": [
    "def get_object_columns(df, target=None):\n",
    "    exclude_vars = ['mental_health_quartile', 'mental_health_category']\n",
    "    object_cols = df.select_dtypes(include=['object', 'category']).columns.tolist()\n",
    "\n",
    "    if target and target in object_cols:\n",
    "        object_cols.remove(target)\n",
    "\n",
    "    # Supprimer les variables spécifiées si elles sont présentes\n",
    "    for col in exclude_vars:\n",
    "        if col in object_cols:\n",
    "            object_cols.remove(col)\n",
    "\n",
    "    return object_cols\n",
    "\n",
    "df.set_index('user_id', inplace=True)\n",
    "object_columns = get_object_columns(df, target='satisfaction')\n",
    "print(len(object_columns), \"\\n\", object_columns)\n"
   ]
  },
  {
   "cell_type": "code",
   "execution_count": 34,
   "id": "c7f5fa48",
   "metadata": {},
   "outputs": [
    {
     "name": "stdout",
     "output_type": "stream",
     "text": [
      "\n",
      "[INFO] Label Encoding for 'gender': {'Female': 0, 'Male': 1, 'Other': 2}\n",
      "\n",
      "[INFO] Label Encoding for 'location_type': {'Rural': 0, 'Suburban': 1, 'Urban': 2}\n",
      "\n",
      "[INFO] Label Encoding for 'age_group': {'Adult': 0, 'Mid-Age': 1, 'Senior': 2, 'Teen': 3, 'Young Adult': 4}\n"
     ]
    }
   ],
   "source": [
    "def label_encode_columns(df, columns=object_columns, verbose=True):\n",
    "    for col in columns:\n",
    "        if col in df.columns:\n",
    "            le = LabelEncoder()\n",
    "            df[col] = le.fit_transform(df[col])\n",
    "            \n",
    "            if verbose:\n",
    "                mapping = dict(zip(le.classes_, le.transform(le.classes_)))\n",
    "                print(f\"\\n[INFO] Label Encoding for '{col}': {mapping}\")\n",
    "        else:\n",
    "            print(f\"[WARNING] Column '{col}' not found in DataFrame.\")\n",
    "    \n",
    "    return df\n",
    "df=label_encode_columns(df, columns=object_columns, verbose=True)"
   ]
  },
  {
   "cell_type": "markdown",
   "id": "30333e40",
   "metadata": {},
   "source": [
    "## \tModeling"
   ]
  },
  {
   "cell_type": "code",
   "execution_count": 35,
   "id": "0696ed51",
   "metadata": {},
   "outputs": [],
   "source": [
    "from sklearn.preprocessing import LabelEncoder\n",
    "from sklearn.pipeline import Pipeline\n",
    "from sklearn.preprocessing import StandardScaler,MinMaxScaler\n",
    "from sklearn.impute import SimpleImputer\n",
    "from sklearn.preprocessing import OneHotEncoder,OrdinalEncoder\n",
    "from sklearn.decomposition import PCA\n",
    "from sklearn.tree import DecisionTreeRegressor\n",
    "from xgboost import XGBRegressor\n",
    "from sklearn.impute import KNNImputer\n",
    "from sklearn.experimental import enable_iterative_imputer\n",
    "from sklearn.impute import IterativeImputer\n",
    "from sklearn.linear_model import LinearRegression\n",
    "from sklearn.model_selection import train_test_split\n",
    "from sklearn.linear_model import LinearRegression\n",
    "from sklearn.metrics import mean_squared_error, mean_absolute_error, r2_score\n",
    "from sklearn.preprocessing import StandardScaler\n",
    "from sklearn.model_selection import train_test_split\n",
    "import time"
   ]
  },
  {
   "cell_type": "markdown",
   "id": "3922b2fc",
   "metadata": {},
   "source": [
    "### regression "
   ]
  },
  {
   "cell_type": "code",
   "execution_count": 36,
   "id": "f95b6fd6",
   "metadata": {},
   "outputs": [],
   "source": [
    "x= df.drop(columns=['mental_health_category','mental_health_quartile','mental_health_cluster',\"mental_health_score\"])\n",
    "y= df['mental_health_score']"
   ]
  },
  {
   "cell_type": "code",
   "execution_count": 37,
   "id": "49414877",
   "metadata": {},
   "outputs": [
    {
     "data": {
      "text/plain": [
       "Index(['gender', 'daily_screen_time_hours', 'phone_usage_hours',\n",
       "       'laptop_usage_hours', 'tablet_usage_hours', 'tv_usage_hours',\n",
       "       'social_media_hours', 'entertainment_hours', 'gaming_hours',\n",
       "       'sleep_quality', 'mood_rating', 'stress_level',\n",
       "       'physical_activity_hours_per_week', 'location_type',\n",
       "       'uses_wellness_apps', 'eats_healthy', 'caffeine_intake_mg_per_day',\n",
       "       'weekly_anxiety_score', 'weekly_depression_score',\n",
       "       'mindfulness_minutes_per_day', 'age_group', 'screen_usage_ratio',\n",
       "       'wellbeing_score'],\n",
       "      dtype='object')"
      ]
     },
     "execution_count": 37,
     "metadata": {},
     "output_type": "execute_result"
    }
   ],
   "source": [
    "x.columns"
   ]
  },
  {
   "cell_type": "code",
   "execution_count": 38,
   "id": "094e390b",
   "metadata": {},
   "outputs": [],
   "source": [
    "x_train,x_test,y_train,y_test= train_test_split(x,y,test_size=0.2)"
   ]
  },
  {
   "cell_type": "code",
   "execution_count": 39,
   "id": "b1122e00",
   "metadata": {},
   "outputs": [],
   "source": [
    "scaler = StandardScaler()\n",
    "x_train = scaler.fit_transform(x_train)\n",
    "x_test  = scaler.fit_transform(x_test)"
   ]
  },
  {
   "cell_type": "code",
   "execution_count": 40,
   "id": "765549c0",
   "metadata": {},
   "outputs": [],
   "source": [
    "lr = LinearRegression()\n",
    "\n",
    "training_start = time.perf_counter()\n",
    "model = lr.fit(x_train, y_train)\n",
    "training_end = time.perf_counter()\n",
    "\n",
    "prediction_start = time.perf_counter()\n",
    "y_pred_train = model.predict(x_train)\n",
    "y_pred_test = model.predict(x_test)\n",
    "prediction_end = time.perf_counter()\n",
    "\n",
    "rmse_train = np.sqrt(mean_squared_error(y_train, y_pred_train))\n",
    "rmse_test = np.sqrt(mean_squared_error(y_test, y_pred_test))\n",
    "\n",
    "mae_train = mean_absolute_error(y_train, y_pred_train)\n",
    "mae_test = mean_absolute_error(y_test , y_pred_test)\n",
    "\n",
    "r2_train = r2_score(y_train, y_pred_train)\n",
    "r2_test = r2_score(y_test, y_pred_test)\n",
    "\n",
    "train_time = training_end - training_start\n",
    "prediction_time = prediction_end - prediction_start\n"
   ]
  },
  {
   "cell_type": "code",
   "execution_count": 41,
   "id": "de9f895c",
   "metadata": {},
   "outputs": [
    {
     "name": "stdout",
     "output_type": "stream",
     "text": [
      "Linear Regression Model Performance:\n",
      "\n",
      "Training Set:\n",
      "  - RMSE: 0.0000\n",
      "  - MAE: 0.0000\n",
      "  - R^2 Score: 1.0000\n",
      "  - Training Time: 0.0308 seconds\n",
      "\n",
      "Testing Set:\n",
      "  - RMSE: 0.6663\n",
      "  - MAE: 0.5930\n",
      "  - R^2 Score: 0.9985\n",
      "  - Prediction Time: 0.00144 seconds\n"
     ]
    }
   ],
   "source": [
    "print(\"Linear Regression Model Performance:\")\n",
    "print(\"\\nTraining Set:\")\n",
    "print(f\"  - RMSE: {rmse_train:.4f}\")\n",
    "print(f\"  - MAE: {mae_train:.4f}\")\n",
    "print(f\"  - R^2 Score: {r2_train:.4f}\")\n",
    "print(f\"  - Training Time: {train_time:.4f} seconds\")\n",
    "\n",
    "print(\"\\nTesting Set:\")\n",
    "print(f\"  - RMSE: {rmse_test:.4f}\")\n",
    "print(f\"  - MAE: {mae_test:.4f}\")\n",
    "print(f\"  - R^2 Score: {r2_test:.4f}\")\n",
    "print(f\"  - Prediction Time: {prediction_time:.5f} seconds\")"
   ]
  },
  {
   "cell_type": "markdown",
   "id": "02fcf6fd",
   "metadata": {},
   "source": [
    "### classification "
   ]
  },
  {
   "cell_type": "markdown",
   "id": "9d92843b",
   "metadata": {},
   "source": [
    "#### Compare binning methods and choose the best one (based on accuracy)"
   ]
  },
  {
   "cell_type": "code",
   "execution_count": 42,
   "id": "256036ff",
   "metadata": {},
   "outputs": [
    {
     "name": "stdout",
     "output_type": "stream",
     "text": [
      "[quartile_class] Accuracy: 0.5817\n",
      "[fixed_bins_class] Accuracy: 0.8833\n",
      "[kmeans_class] Accuracy: 0.8783\n",
      "\n",
      " Best binning method: fixed_bins_class with accuracy 0.8833\n"
     ]
    },
    {
     "data": {
      "text/plain": [
       "({'quartile_class': 0.5816666666666667,\n",
       "  'fixed_bins_class': 0.8833333333333333,\n",
       "  'kmeans_class': 0.8783333333333333},\n",
       " 'fixed_bins_class')"
      ]
     },
     "execution_count": 42,
     "metadata": {},
     "output_type": "execute_result"
    }
   ],
   "source": [
    "from sklearn.neighbors import KNeighborsClassifier\n",
    "from sklearn.metrics import accuracy_score, precision_score, recall_score, f1_score, confusion_matrix\n",
    "def evaluate_binning_methods(df, score_col='mental_health_score', feature_cols=None, n_neighbors=5):\n",
    "    results = {}\n",
    "    methods = {}\n",
    "\n",
    "    if feature_cols is None:\n",
    "        feature_cols = df.select_dtypes(include=[np.number]).columns.drop(score_col)\n",
    "\n",
    "    X = df[feature_cols]\n",
    "        \n",
    "    df['quartile_class'] = pd.qcut(df[score_col], q=4, labels=[0, 1, 2, 3])\n",
    "    methods['quartile_class'] = df['quartile_class'].astype(int)\n",
    "\n",
    "    bins = [20, 40, 60, 80]\n",
    "    labels = [0, 1, 2]\n",
    "    df['fixed_bins_class'] = pd.cut(df[score_col], bins=bins, labels=labels, include_lowest=True)\n",
    "    methods['fixed_bins_class'] = df['fixed_bins_class'].astype(int)\n",
    "\n",
    "    kmeans = KMeans(n_clusters=3, random_state=42)\n",
    "    df['kmeans_class'] = kmeans.fit_predict(df[[score_col]])\n",
    "    methods['kmeans_class'] = df['kmeans_class']\n",
    "\n",
    "    for method_name, y in methods.items():\n",
    "        valid_idx = y.dropna().index\n",
    "        X_valid = X.loc[valid_idx]\n",
    "        y_valid = y.loc[valid_idx]\n",
    "\n",
    "        X_train, X_test, y_train, y_test = train_test_split(X_valid, y_valid, test_size=0.3, random_state=42)\n",
    "\n",
    "        knn_pipe = Pipeline([\n",
    "            ('scaler', StandardScaler()),\n",
    "            ('knn', KNeighborsClassifier(n_neighbors=n_neighbors))\n",
    "        ])\n",
    "\n",
    "        knn_pipe.fit(X_train, y_train)\n",
    "        y_pred = knn_pipe.predict(X_test)\n",
    "\n",
    "        acc = accuracy_score(y_test, y_pred)\n",
    "        results[method_name] = acc\n",
    "        print(f\"[{method_name}] Accuracy: {acc:.4f}\")\n",
    "\n",
    "    best_method = max(results, key=results.get)\n",
    "    print(f\"\\n Best binning method: {best_method} with accuracy {results[best_method]:.4f}\")\n",
    "\n",
    "    return results, best_method\n",
    "evaluate_binning_methods(df, score_col='mental_health_score')\n"
   ]
  },
  {
   "cell_type": "code",
   "execution_count": 43,
   "id": "2d90f760",
   "metadata": {},
   "outputs": [],
   "source": [
    "df = df.drop(columns=['quartile_class', 'fixed_bins_class','kmeans_class'])\n"
   ]
  },
  {
   "cell_type": "markdown",
   "id": "ad506632",
   "metadata": {},
   "source": [
    "#### logistic regression "
   ]
  },
  {
   "cell_type": "code",
   "execution_count": 44,
   "id": "a870e069",
   "metadata": {},
   "outputs": [],
   "source": [
    "x= df.drop(columns=['mental_health_category', 'mental_health_quartile','mental_health_cluster',\"mental_health_score\"])\n",
    "y= df['mental_health_cluster']"
   ]
  },
  {
   "cell_type": "code",
   "execution_count": 45,
   "id": "8c4f3656",
   "metadata": {},
   "outputs": [],
   "source": [
    "x_train,x_test,y_train,y_test= train_test_split(x,y,test_size=0.2)"
   ]
  },
  {
   "cell_type": "code",
   "execution_count": 46,
   "id": "89aa5a91",
   "metadata": {},
   "outputs": [],
   "source": [
    "from sklearn.linear_model import LogisticRegression\n",
    "from sklearn.metrics import accuracy_score, precision_score, recall_score, f1_score, confusion_matrix\n",
    "from sklearn.metrics import mean_squared_error, mean_absolute_error, r2_score"
   ]
  },
  {
   "cell_type": "code",
   "execution_count": 47,
   "id": "e4e86ea3",
   "metadata": {},
   "outputs": [],
   "source": [
    "clf = LogisticRegression(max_iter=1000)\n",
    "\n",
    "training_start = time.perf_counter()\n",
    "clf.fit(x_train, y_train)\n",
    "training_end = time.perf_counter()\n",
    "\n",
    "prediction_start = time.perf_counter()\n",
    "y_pred_train = clf.predict(x_train)\n",
    "y_pred_test = clf.predict(x_test)\n",
    "prediction_end = time.perf_counter()"
   ]
  },
  {
   "cell_type": "code",
   "execution_count": 48,
   "id": "d92457e8",
   "metadata": {},
   "outputs": [],
   "source": [
    "accuracy_train = accuracy_score(y_train, y_pred_train)\n",
    "accuracy_test = accuracy_score(y_test, y_pred_test)\n",
    "\n",
    "precision_train = precision_score(y_train, y_pred_train, average='weighted')\n",
    "precision_test = precision_score(y_test, y_pred_test, average='weighted')\n",
    "\n",
    "recall_train = recall_score(y_train, y_pred_train, average='weighted')\n",
    "recall_test = recall_score(y_test, y_pred_test, average='weighted')\n",
    "f1_train = f1_score(y_train, y_pred_train, average='weighted')\n",
    "f1_test = f1_score(y_test, y_pred_test, average='weighted')\n",
    "train_time = training_end - training_start\n",
    "prediction_time = prediction_end - prediction_start"
   ]
  },
  {
   "cell_type": "code",
   "execution_count": 49,
   "id": "2197b1bd",
   "metadata": {},
   "outputs": [
    {
     "name": "stdout",
     "output_type": "stream",
     "text": [
      "Logistic Regression Model Performance:\n",
      "\n",
      " Training Set:\n",
      "  - Accuracy: 0.9794\n",
      "  - Precision: 0.9794\n",
      "  - Recall: 0.9794\n",
      "  - F1 Score: 0.9794\n",
      "  - Training Time: 5.4786 seconds\n",
      "\n",
      " Testing Set:\n",
      "  - Accuracy: 0.9650\n",
      "  - Precision: 0.9665\n",
      "  - Recall: 0.9650\n",
      "  - F1 Score: 0.9652\n",
      "  - Prediction Time: 0.01090 seconds\n",
      "\n",
      " Confusion Matrix:\n",
      "[[132   0   3]\n",
      " [  7 124   0]\n",
      " [  4   0 130]]\n"
     ]
    }
   ],
   "source": [
    "print(\"Logistic Regression Model Performance:\")\n",
    "\n",
    "print(\"\\n Training Set:\")\n",
    "print(f\"  - Accuracy: {accuracy_train:.4f}\")\n",
    "print(f\"  - Precision: {precision_train:.4f}\")\n",
    "print(f\"  - Recall: {recall_train:.4f}\")\n",
    "print(f\"  - F1 Score: {f1_train:.4f}\")\n",
    "print(f\"  - Training Time: {train_time:.4f} seconds\")\n",
    "\n",
    "print(\"\\n Testing Set:\")\n",
    "print(f\"  - Accuracy: {accuracy_test:.4f}\")\n",
    "print(f\"  - Precision: {precision_test:.4f}\")\n",
    "print(f\"  - Recall: {recall_test:.4f}\")\n",
    "print(f\"  - F1 Score: {f1_test:.4f}\")\n",
    "print(f\"  - Prediction Time: {prediction_time:.5f} seconds\")\n",
    "\n",
    "print(\"\\n Confusion Matrix:\")\n",
    "print(confusion_matrix(y_test, y_pred_test))"
   ]
  },
  {
   "cell_type": "markdown",
   "id": "fe85e8f4",
   "metadata": {},
   "source": [
    "#### Random Forest"
   ]
  },
  {
   "cell_type": "code",
   "execution_count": 50,
   "id": "6d802cbd",
   "metadata": {},
   "outputs": [],
   "source": [
    "import time\n",
    "from sklearn.pipeline import Pipeline\n",
    "from sklearn.preprocessing import StandardScaler\n",
    "from sklearn.ensemble import RandomForestClassifier\n"
   ]
  },
  {
   "cell_type": "code",
   "execution_count": 51,
   "id": "5d131c84",
   "metadata": {},
   "outputs": [],
   "source": [
    "\n",
    "pipeline = Pipeline([\n",
    "    ('scaler', StandardScaler()),  \n",
    "    ('rf', RandomForestClassifier(random_state=42))\n",
    "])\n",
    "\n",
    "training_start = time.perf_counter()\n",
    "pipeline.fit(x_train, y_train)\n",
    "training_end = time.perf_counter()\n",
    "\n",
    "prediction_start = time.perf_counter()\n",
    "y_pred_train = pipeline.predict(x_train)\n",
    "y_pred_test = pipeline.predict(x_test)\n",
    "prediction_end = time.perf_counter()"
   ]
  },
  {
   "cell_type": "code",
   "execution_count": 52,
   "id": "81628f76",
   "metadata": {},
   "outputs": [
    {
     "name": "stdout",
     "output_type": "stream",
     "text": [
      "Random Forest Performance:\n",
      "Train Accuracy: 1.0000\n",
      "Test Accuracy: 0.8775\n",
      "F1 Score (Test): 0.8783\n",
      "Training Time: 1.0882s\n",
      "Prediction Time: 0.12906s\n",
      "Confusion Matrix:\n",
      "[[115   9  11]\n",
      " [ 18 113   0]\n",
      " [ 11   0 123]]\n"
     ]
    }
   ],
   "source": [
    "print(\"Random Forest Performance:\")\n",
    "print(f\"Train Accuracy: {accuracy_score(y_train, y_pred_train):.4f}\")\n",
    "print(f\"Test Accuracy: {accuracy_score(y_test, y_pred_test):.4f}\")\n",
    "print(f\"F1 Score (Test): {f1_score(y_test, y_pred_test, average='weighted'):.4f}\")\n",
    "print(f\"Training Time: {training_end - training_start:.4f}s\")\n",
    "print(f\"Prediction Time: {prediction_end - prediction_start:.5f}s\")\n",
    "print(\"Confusion Matrix:\")\n",
    "print(confusion_matrix(y_test, y_pred_test))"
   ]
  },
  {
   "cell_type": "markdown",
   "id": "e7faede2",
   "metadata": {},
   "source": [
    "#### KNN"
   ]
  },
  {
   "cell_type": "code",
   "execution_count": 53,
   "id": "64834f9c",
   "metadata": {},
   "outputs": [],
   "source": [
    "from sklearn.neighbors import KNeighborsClassifier\n",
    "\n",
    "pipeline = Pipeline([\n",
    "    ('scaler', StandardScaler()),  \n",
    "    ('knn', KNeighborsClassifier(n_neighbors=5))\n",
    "])\n",
    "\n",
    "training_start = time.perf_counter()\n",
    "pipeline.fit(x_train, y_train)\n",
    "training_end = time.perf_counter()\n",
    "\n",
    "prediction_start = time.perf_counter()\n",
    "y_pred_train = pipeline.predict(x_train)\n",
    "y_pred_test = pipeline.predict(x_test)\n",
    "prediction_end = time.perf_counter()\n"
   ]
  },
  {
   "cell_type": "code",
   "execution_count": 54,
   "id": "48ff361d",
   "metadata": {},
   "outputs": [
    {
     "name": "stdout",
     "output_type": "stream",
     "text": [
      "K-Nearest Neighbors Performance:\n",
      "Train Accuracy: 0.7881\n",
      "Test Accuracy: 0.6050\n",
      "F1 Score (Test): 0.6129\n",
      "Training Time: 0.0197s\n",
      "Prediction Time: 0.76511s\n",
      "Confusion Matrix:\n",
      "[[77 40 18]\n",
      " [46 85  0]\n",
      " [46  8 80]]\n"
     ]
    }
   ],
   "source": [
    "print(\"K-Nearest Neighbors Performance:\")\n",
    "print(f\"Train Accuracy: {accuracy_score(y_train, y_pred_train):.4f}\")\n",
    "print(f\"Test Accuracy: {accuracy_score(y_test, y_pred_test):.4f}\")\n",
    "print(f\"F1 Score (Test): {f1_score(y_test, y_pred_test, average='weighted'):.4f}\")\n",
    "print(f\"Training Time: {training_end - training_start:.4f}s\")\n",
    "print(f\"Prediction Time: {prediction_end - prediction_start:.5f}s\")\n",
    "print(\"Confusion Matrix:\")\n",
    "print(confusion_matrix(y_test, y_pred_test))"
   ]
  },
  {
   "cell_type": "markdown",
   "id": "477cc4a2",
   "metadata": {},
   "source": [
    "#### SVM"
   ]
  },
  {
   "cell_type": "code",
   "execution_count": 55,
   "id": "30774e82",
   "metadata": {},
   "outputs": [],
   "source": [
    "from sklearn.svm import LinearSVC\n",
    "pipeline = Pipeline([\n",
    "    ('scaler', StandardScaler()),\n",
    "    ('svm', LinearSVC())\n",
    "])\n",
    "\n",
    "training_start = time.perf_counter()\n",
    "pipeline.fit(x_train, y_train)\n",
    "training_end = time.perf_counter()\n",
    "\n",
    "\n",
    "prediction_start = time.perf_counter()\n",
    "y_pred_train = pipeline.predict(x_train)\n",
    "y_pred_test = pipeline.predict(x_test)\n",
    "prediction_end = time.perf_counter()"
   ]
  },
  {
   "cell_type": "code",
   "execution_count": 56,
   "id": "3721ad63",
   "metadata": {},
   "outputs": [
    {
     "name": "stdout",
     "output_type": "stream",
     "text": [
      "LinearSVC Performance:\n",
      "Train Accuracy: 0.9769\n",
      "Test Accuracy: 0.9825\n",
      "F1 Score (Test): 0.9824\n",
      "Training Time: 0.3809s\n",
      "Prediction Time: 0.01545s\n",
      "Confusion Matrix:\n",
      "[[128   1   6]\n",
      " [  0 131   0]\n",
      " [  0   0 134]]\n"
     ]
    }
   ],
   "source": [
    "print(\"LinearSVC Performance:\")\n",
    "print(f\"Train Accuracy: {accuracy_score(y_train, y_pred_train):.4f}\")\n",
    "print(f\"Test Accuracy: {accuracy_score(y_test, y_pred_test):.4f}\")\n",
    "print(f\"F1 Score (Test): {f1_score(y_test, y_pred_test, average='weighted'):.4f}\")\n",
    "print(f\"Training Time: {training_end - training_start:.4f}s\")\n",
    "print(f\"Prediction Time: {prediction_end - prediction_start:.5f}s\")\n",
    "print(\"Confusion Matrix:\")\n",
    "print(confusion_matrix(y_test, y_pred_test))"
   ]
  },
  {
   "cell_type": "markdown",
   "id": "ae6b478f",
   "metadata": {},
   "source": [
    "## modeling with Hyperparameter Tuning"
   ]
  },
  {
   "cell_type": "code",
   "execution_count": 57,
   "id": "443c2241",
   "metadata": {},
   "outputs": [],
   "source": [
    "from sklearn.model_selection import GridSearchCV\n",
    "from sklearn.model_selection import GridSearchCV, RandomizedSearchCV, train_test_split\n",
    "from scipy.stats import randint"
   ]
  },
  {
   "cell_type": "markdown",
   "id": "2f44e2e1",
   "metadata": {},
   "source": [
    "### KNN"
   ]
  },
  {
   "cell_type": "code",
   "execution_count": 58,
   "id": "1db0e4d1",
   "metadata": {},
   "outputs": [],
   "source": [
    "pipeline = Pipeline([\n",
    "    ('scaler', StandardScaler()),\n",
    "    ('knn', KNeighborsClassifier())\n",
    "])\n",
    "\n",
    "param_grid = {\n",
    "    'knn__n_neighbors': [3, 5,10,20,50,100],  \n",
    "    'knn__weights': ['uniform'],  \n",
    "    'knn__metric': ['euclidean']  \n",
    "}\n",
    "grid_search = GridSearchCV(pipeline, param_grid, cv=3, scoring='accuracy', n_jobs=-1)\n"
   ]
  },
  {
   "cell_type": "code",
   "execution_count": 59,
   "id": "982a1fd7",
   "metadata": {},
   "outputs": [],
   "source": [
    "training_start = time.perf_counter()\n",
    "grid_search.fit(x_train, y_train)\n",
    "training_end = time.perf_counter()\n",
    "\n",
    "best_model = grid_search.best_estimator_\n",
    "\n",
    "prediction_start = time.perf_counter()\n",
    "y_pred_train = best_model.predict(x_train)\n",
    "y_pred_test = best_model.predict(x_test)\n",
    "prediction_end = time.perf_counter()"
   ]
  },
  {
   "cell_type": "code",
   "execution_count": 60,
   "id": "affd3649",
   "metadata": {},
   "outputs": [],
   "source": [
    "accuracy_train = accuracy_score(y_train, y_pred_train)\n",
    "accuracy_test = accuracy_score(y_test, y_pred_test)\n",
    "\n",
    "precision_train = precision_score(y_train, y_pred_train, average='weighted')\n",
    "precision_test = precision_score(y_test, y_pred_test, average='weighted')\n",
    "\n",
    "recall_train = recall_score(y_train, y_pred_train, average='weighted')\n",
    "recall_test = recall_score(y_test, y_pred_test, average='weighted')\n",
    "\n",
    "f1_train = f1_score(y_train, y_pred_train, average='weighted')\n",
    "f1_test = f1_score(y_test, y_pred_test, average='weighted')\n",
    "\n",
    "train_time = training_end - training_start\n",
    "prediction_time = prediction_end - prediction_start"
   ]
  },
  {
   "cell_type": "code",
   "execution_count": 61,
   "id": "c83b7e28",
   "metadata": {},
   "outputs": [
    {
     "name": "stdout",
     "output_type": "stream",
     "text": [
      "K-Nearest Neighbors Model Performance:\n",
      "\n",
      " Best Parameters:\n",
      "{'knn__metric': 'euclidean', 'knn__n_neighbors': 100, 'knn__weights': 'uniform'}\n",
      "\n",
      " Training Set:\n",
      "  - Accuracy: 0.7825\n",
      "  - Precision: 0.7796\n",
      "  - Recall: 0.7825\n",
      "  - F1 Score: 0.7779\n",
      "  - Training Time: 13.5722 seconds\n",
      "\n",
      " Testing Set:\n",
      "  - Accuracy: 0.7525\n",
      "  - Precision: 0.7502\n",
      "  - Recall: 0.7525\n",
      "  - F1 Score: 0.7477\n",
      "  - Prediction Time: 0.89514 seconds\n",
      "\n",
      " Confusion Matrix:\n",
      "[[ 75  42  18]\n",
      " [ 18 113   0]\n",
      " [ 20   1 113]]\n"
     ]
    }
   ],
   "source": [
    "print(\"K-Nearest Neighbors Model Performance:\")\n",
    "print(\"\\n Best Parameters:\")\n",
    "print(grid_search.best_params_)\n",
    "\n",
    "print(\"\\n Training Set:\")\n",
    "print(f\"  - Accuracy: {accuracy_train:.4f}\")\n",
    "print(f\"  - Precision: {precision_train:.4f}\")\n",
    "print(f\"  - Recall: {recall_train:.4f}\")\n",
    "print(f\"  - F1 Score: {f1_train:.4f}\")\n",
    "print(f\"  - Training Time: {train_time:.4f} seconds\")\n",
    "\n",
    "print(\"\\n Testing Set:\")\n",
    "print(f\"  - Accuracy: {accuracy_test:.4f}\")\n",
    "print(f\"  - Precision: {precision_test:.4f}\")\n",
    "print(f\"  - Recall: {recall_test:.4f}\")\n",
    "print(f\"  - F1 Score: {f1_test:.4f}\")\n",
    "print(f\"  - Prediction Time: {prediction_time:.5f} seconds\")\n",
    "\n",
    "print(\"\\n Confusion Matrix:\")\n",
    "print(confusion_matrix(y_test, y_pred_test))"
   ]
  },
  {
   "cell_type": "markdown",
   "id": "6b7e8b09",
   "metadata": {},
   "source": [
    "### Random forest "
   ]
  },
  {
   "cell_type": "code",
   "execution_count": 62,
   "id": "765d8777",
   "metadata": {},
   "outputs": [],
   "source": [
    "pipeline = Pipeline([\n",
    "    ('scaler', StandardScaler()), \n",
    "    ('rf', RandomForestClassifier(random_state=42))\n",
    "])\n",
    "\n",
    "param_grid = {\n",
    "    'rf__n_estimators': [100],       \n",
    "    'rf__max_depth': [None],        \n",
    "    'rf__min_samples_split': [2],  \n",
    "}\n",
    "grid_search = GridSearchCV(pipeline, param_grid, cv=3, scoring='accuracy')"
   ]
  },
  {
   "cell_type": "code",
   "execution_count": 63,
   "id": "7ff5ec99",
   "metadata": {},
   "outputs": [],
   "source": [
    "training_start = time.perf_counter()\n",
    "grid_search.fit(x_train, y_train)\n",
    "training_end = time.perf_counter()\n",
    "\n",
    "best_model = grid_search.best_estimator_\n",
    "\n",
    "prediction_start = time.perf_counter()\n",
    "y_pred_train = best_model.predict(x_train)\n",
    "y_pred_test = best_model.predict(x_test)\n",
    "prediction_end = time.perf_counter()"
   ]
  },
  {
   "cell_type": "code",
   "execution_count": 64,
   "id": "ee9d98dc",
   "metadata": {},
   "outputs": [],
   "source": [
    "accuracy_train = accuracy_score(y_train, y_pred_train)\n",
    "accuracy_test = accuracy_score(y_test, y_pred_test)\n",
    "\n",
    "precision_train = precision_score(y_train, y_pred_train, average='weighted')\n",
    "precision_test = precision_score(y_test, y_pred_test, average='weighted')\n",
    "\n",
    "recall_train = recall_score(y_train, y_pred_train, average='weighted')\n",
    "recall_test = recall_score(y_test, y_pred_test, average='weighted')\n",
    "\n",
    "f1_train = f1_score(y_train, y_pred_train, average='weighted')\n",
    "f1_test = f1_score(y_test, y_pred_test, average='weighted')\n",
    "\n",
    "train_time = training_end - training_start\n",
    "prediction_time = prediction_end - prediction_start"
   ]
  },
  {
   "cell_type": "code",
   "execution_count": 65,
   "id": "4a41893d",
   "metadata": {},
   "outputs": [
    {
     "name": "stdout",
     "output_type": "stream",
     "text": [
      "Random Forest Model Performance:\n",
      "\n",
      " Best Parameters:\n",
      "{'rf__max_depth': None, 'rf__min_samples_split': 2, 'rf__n_estimators': 100}\n",
      "\n",
      " Training Set:\n",
      "  - Accuracy: 1.0000\n",
      "  - Precision: 1.0000\n",
      "  - Recall: 1.0000\n",
      "  - F1 Score: 1.0000\n",
      "  - Training Time: 3.6014 seconds\n",
      "\n",
      " Testing Set:\n",
      "  - Accuracy: 0.8775\n",
      "  - Precision: 0.8804\n",
      "  - Recall: 0.8775\n",
      "  - F1 Score: 0.8783\n",
      "  - Prediction Time: 0.14165 seconds\n",
      "\n",
      " Confusion Matrix:\n",
      "[[115   9  11]\n",
      " [ 18 113   0]\n",
      " [ 11   0 123]]\n"
     ]
    }
   ],
   "source": [
    "print(\"Random Forest Model Performance:\")\n",
    "print(\"\\n Best Parameters:\")\n",
    "print(grid_search.best_params_)\n",
    "\n",
    "print(\"\\n Training Set:\")\n",
    "print(f\"  - Accuracy: {accuracy_train:.4f}\")\n",
    "print(f\"  - Precision: {precision_train:.4f}\")\n",
    "print(f\"  - Recall: {recall_train:.4f}\")\n",
    "print(f\"  - F1 Score: {f1_train:.4f}\")\n",
    "print(f\"  - Training Time: {train_time:.4f} seconds\")\n",
    "\n",
    "print(\"\\n Testing Set:\")\n",
    "print(f\"  - Accuracy: {accuracy_test:.4f}\")\n",
    "print(f\"  - Precision: {precision_test:.4f}\")\n",
    "print(f\"  - Recall: {recall_test:.4f}\")\n",
    "print(f\"  - F1 Score: {f1_test:.4f}\")\n",
    "print(f\"  - Prediction Time: {prediction_time:.5f} seconds\")\n",
    "\n",
    "print(\"\\n Confusion Matrix:\")\n",
    "print(confusion_matrix(y_test, y_pred_test))"
   ]
  },
  {
   "cell_type": "markdown",
   "id": "d8367953",
   "metadata": {},
   "source": [
    "## Results Interpretation"
   ]
  },
  {
   "cell_type": "markdown",
   "id": "4729b406",
   "metadata": {},
   "source": [
    "The evaluation of both regression and classification models highlights several important insights:\n",
    "\n",
    "#### Linear Regression\n",
    "The Linear Regression model demonstrated near-perfect performance:\n",
    "- **Training R² = 1.0000** suggests a perfect fit, though this may indicate overfitting.\n",
    "- However, the **Testing R² = 0.9943** confirms that the model generalizes very well, with minimal error (RMSE = 1.3535).\n",
    "- This indicates that the linear relationship between the features and the mental health score is very well captured.\n",
    "\n",
    "####  Classification Models\n",
    "Among the classification models, the best performance was achieved by **LinearSVC** and **Logistic Regression**:\n",
    "- **LinearSVC** had the highest F1 score (0.9748), showing robust and balanced classification capability.\n",
    "- **Logistic Regression** followed closely (F1 = 0.9404), with high precision and recall, and a shorter training time.\n",
    "- **Random Forest** achieved perfect training performance (F1 = 1.0000) but lower test performance (F1 = 0.8636), indicating some overfitting.\n",
    "- **KNN** performed the worst (F1 = 0.7163) and had the longest prediction time, making it less suitable for this task.\n",
    "\n",
    "####  Final Remarks\n",
    "- Models like **LinearSVC** and **Logistic Regression** provide excellent performance and generalization without significant overfitting.\n",
    "- The **Random Forest** model, while powerful, may require tuning or regularization to avoid overfitting.\n",
    "- **KNN** is sensitive to the choice of `k` and does not scale well with larger datasets.\n",
    "\n",
    "These findings should guide future model selection and optimization, depending on whether performance, interpretability, or computational efficiency is prioritized.\n"
   ]
  }
 ],
 "metadata": {
  "kernelspec": {
   "display_name": "base",
   "language": "python",
   "name": "python3"
  },
  "language_info": {
   "codemirror_mode": {
    "name": "ipython",
    "version": 3
   },
   "file_extension": ".py",
   "mimetype": "text/x-python",
   "name": "python",
   "nbconvert_exporter": "python",
   "pygments_lexer": "ipython3",
   "version": "3.11.7"
  }
 },
 "nbformat": 4,
 "nbformat_minor": 5
}
